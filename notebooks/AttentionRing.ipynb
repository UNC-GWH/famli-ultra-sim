{
 "cells": [
  {
   "cell_type": "code",
   "execution_count": null,
   "id": "4bf8b02b-00df-4479-b055-d717f3a75b89",
   "metadata": {},
   "outputs": [],
   "source": [
    "import torch\n",
    "from torch import nn"
   ]
  },
  {
   "cell_type": "code",
   "execution_count": null,
   "id": "9e1a1468-8e8b-45c3-8147-6978c07f8106",
   "metadata": {},
   "outputs": [],
   "source": [
    "y_f = torch.randint(0, 10, (2,5,1))\n",
    "\n",
    "print(y_f)"
   ]
  },
  {
   "cell_type": "code",
   "execution_count": null,
   "id": "3c90c7b1",
   "metadata": {},
   "outputs": [],
   "source": [
    "y_f = (y_f == 9).float()\n",
    "print(y_f)"
   ]
  },
  {
   "cell_type": "code",
   "execution_count": null,
   "id": "5323ffa0",
   "metadata": {},
   "outputs": [],
   "source": []
  }
 ],
 "metadata": {
  "kernelspec": {
   "display_name": "Python 3 (ipykernel)",
   "language": "python",
   "name": "python3"
  },
  "language_info": {
   "codemirror_mode": {
    "name": "ipython",
    "version": 3
   },
   "file_extension": ".py",
   "mimetype": "text/x-python",
   "name": "python",
   "nbconvert_exporter": "python",
   "pygments_lexer": "ipython3",
   "version": "3.10.14"
  }
 },
 "nbformat": 4,
 "nbformat_minor": 5
}
