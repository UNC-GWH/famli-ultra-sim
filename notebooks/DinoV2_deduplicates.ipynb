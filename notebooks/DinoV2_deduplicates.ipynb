{
 "cells": [
  {
   "cell_type": "code",
   "execution_count": null,
   "metadata": {},
   "outputs": [],
   "source": [
    "import torch\n",
    "import pandas as pd\n",
    "import sys\n",
    "sys.path.append('/mnt/raid/C1_ML_Analysis/source/famli-ultra-sim/')\n",
    "sys.path.append('/mnt/raid/C1_ML_Analysis/source/famli-ultra-sim/dl')\n",
    "from dl.loaders import ultrasound_dataset\n",
    "from torch.utils.data import DataLoader\n",
    "import  numpy as np\n",
    "import pickle\n",
    "import os\n",
    "import plotly.express as px"
   ]
  },
  {
   "cell_type": "code",
   "execution_count": null,
   "metadata": {},
   "outputs": [],
   "source": [
    "# df = pd.read_parquet('/mnt/raid/C1_ML_Analysis/CSV_files/extract_frames_Dataset_C_masked_resampled_256_spc075_wscores_meta_noflyto_100K_train.parquet')\n",
    "# df\n",
    "\n",
    "mount_point = '/mnt/raid/C1_ML_Analysis'\n",
    "\n",
    "out_dir = \"test_output/classification/extract_frames_Dataset_C_masked_resampled_256_spc075_wscores_meta_noflyto_100K_train/epoch=9-val_loss=0.27\"\n",
    "\n",
    "df = pd.read_parquet(os.path.join(mount_point, out_dir, 'extract_frames_Dataset_C_masked_resampled_256_spc075_wscores_meta_noflyto_100K_train_prediction.parquet'))\n"
   ]
  },
  {
   "cell_type": "code",
   "execution_count": null,
   "metadata": {},
   "outputs": [],
   "source": [
    "mount_point = '/mnt/raid/C1_ML_Analysis/'\n",
    "\n",
    "from dl.transforms import ultrasound_transforms\n",
    "\n",
    "eval_transform = ultrasound_transforms.DinoUSEvalTransforms()\n",
    "\n",
    "val_ds = ultrasound_dataset.USDatasetV2(df, mount_point=mount_point, transform=eval_transform)"
   ]
  },
  {
   "cell_type": "code",
   "execution_count": null,
   "metadata": {},
   "outputs": [],
   "source": [
    "us_dl = DataLoader(val_ds, batch_size=128, num_workers=8, persistent_workers=True, pin_memory=True, shuffle=False)"
   ]
  },
  {
   "cell_type": "code",
   "execution_count": null,
   "metadata": {},
   "outputs": [],
   "source": [
    "feat_fn = '/mnt/raid/C1_ML_Analysis/dino_v2_features/extract_frames_Dataset_C_masked_resampled_256_spc075_wscores_meta_noflyto_100K_train_features.pickle'\n",
    "\n",
    "if not os.path.exists(feat_fn):\n",
    "    dinov2_vitl14_reg = torch.hub.load('facebookresearch/dinov2', 'dinov2_vitl14_reg')\n",
    "    dinov2_vitl14_reg.eval()\n",
    "    dinov2_vitl14_reg.cuda()\n",
    "\n",
    "    features_arr = []\n",
    "    with torch.no_grad():\n",
    "        for i, batch in enumerate(us_dl):\n",
    "            \n",
    "            x = batch\n",
    "            features = dinov2_vitl14_reg(x.cuda())\n",
    "            features_arr.append(features.cpu().numpy())\n",
    "    \n",
    "    features_arr = np.concatenate(features_arr, axis=0)\n",
    "    pickle.dump(features_arr, open(feat_fn, 'wb'))"
   ]
  },
  {
   "cell_type": "code",
   "execution_count": null,
   "metadata": {},
   "outputs": [],
   "source": [
    "features = pickle.load(open(feat_fn, 'rb')).reshape(-1, 1024)"
   ]
  },
  {
   "cell_type": "code",
   "execution_count": null,
   "metadata": {},
   "outputs": [],
   "source": [
    "from sklearn.manifold import TSNE\n",
    "# Apply t-SNE for dimensionality reduction to 2D\n",
    "tsne = TSNE(n_components=2, perplexity=500, n_iter=300, random_state=42)\n",
    "tsne_results = tsne.fit_transform(features)"
   ]
  },
  {
   "cell_type": "code",
   "execution_count": null,
   "metadata": {},
   "outputs": [],
   "source": [
    "import random\n",
    "color_map = {}\n",
    "\n",
    "def generate_random_color():\n",
    "    return \"#{:06x}\".format(random.randint(0, 0xFFFFFF))\n",
    "\n",
    "def generate_random_colors(num_colors):\n",
    "    return [generate_random_color() for _ in range(num_colors)]\n",
    "\n",
    "\n",
    "# Generate random colors\n",
    "unique_categories = df['pred_class'].unique()\n",
    "random_colors = generate_random_colors(len(unique_categories))\n",
    "color_map = {category: color for category, color in zip(unique_categories, random_colors)}"
   ]
  },
  {
   "cell_type": "code",
   "execution_count": null,
   "metadata": {},
   "outputs": [],
   "source": [
    "df['tsne_0'] = tsne_results[:,0]\n",
    "df['tsne_1'] = tsne_results[:,1]\n",
    "\n",
    "fig = px.scatter(df.sample(n=5000), x='tsne_0', y='tsne_1', color='pred_class')\n",
    "fig.update_traces(marker=dict(color=[color_map[cat] for cat in df['pred_class']]))\n",
    "fig"
   ]
  },
  {
   "cell_type": "code",
   "execution_count": null,
   "metadata": {},
   "outputs": [],
   "source": [
    "from sklearn.decomposition import PCA\n",
    "pca = PCA(n_components=2)\n",
    "reduced_features = pca.fit_transform(features)\n",
    "\n",
    "df['pca_0'] = reduced_features[:,0]\n",
    "df['pca_1'] = reduced_features[:,1]\n",
    "\n",
    "fig = px.scatter(df.sample(n=1000), x='pca_0', y='pca_1', color='score')\n",
    "# fig.update_traces(marker=dict(color=[color_map[cat] for cat in df['pred_class']]))\n",
    "fig"
   ]
  },
  {
   "cell_type": "code",
   "execution_count": null,
   "metadata": {},
   "outputs": [],
   "source": [
    "feat_fn_sn = '/mnt/raid/C1_ML_Analysis/test_output/contrastive_learning/extract_frames_blind_sweeps_c1_30082022_wscores_simscorew_rr_rs_w16/epoch=125-val_loss=102.47/extract_frames_blind_sweeps_c1_30082022_wscores_test_perplexity_300_sample.pickle'\n",
    "feat_sn = pickle.load(open(feat_fn_sn, 'rb'))\n",
    "df_sn = pd.read_parquet('/mnt/raid/C1_ML_Analysis/test_output/contrastive_learning/extract_frames_blind_sweeps_c1_30082022_wscores_simscorew_rr_rs_w16/epoch=125-val_loss=102.47/extract_frames_blind_sweeps_c1_30082022_wscores_test_perplexity_300_sample.parquet')\n"
   ]
  },
  {
   "cell_type": "code",
   "execution_count": null,
   "metadata": {},
   "outputs": [],
   "source": []
  }
 ],
 "metadata": {
  "kernelspec": {
   "display_name": "Python 3 (ipykernel)",
   "language": "python",
   "name": "python3"
  },
  "language_info": {
   "codemirror_mode": {
    "name": "ipython",
    "version": 3
   },
   "file_extension": ".py",
   "mimetype": "text/x-python",
   "name": "python",
   "nbconvert_exporter": "python",
   "pygments_lexer": "ipython3",
   "version": "3.10.0"
  }
 },
 "nbformat": 4,
 "nbformat_minor": 2
}
