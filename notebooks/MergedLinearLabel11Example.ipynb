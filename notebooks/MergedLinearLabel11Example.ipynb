{
 "cells": [
  {
   "cell_type": "code",
   "execution_count": null,
   "id": "11b528a5-3ac5-4e17-af8b-23a6b5fda11d",
   "metadata": {},
   "outputs": [],
   "source": [
    "import torch\n",
    "import torch.nn.functional as F\n",
    "from torchvision import transforms as T\n",
    "import numpy as np\n",
    "\n",
    "import nrrd\n",
    "import pandas as pd\n",
    "import os\n",
    "import sys\n",
    "\n",
    "import plotly.express as px\n",
    "\n",
    "# sys.path.append(\"/mnt/raid/C1_ML_Analysis/source/autoencoder/src\")\n",
    "sys.path.append(\"/mnt/raid/C1_ML_Analysis/source/famli-ultra-sim/\")\n",
    "sys.path.append(\"/mnt/raid/C1_ML_Analysis/source/famli-ultra-sim/dl/\")\n",
    "sys.path.append(\"/mnt/raid/C1_ML_Analysis/source/famli-ultra-sim/dl/nets\")\n",
    "\n",
    "\n",
    "from dl.nets.layers import TimeDistributed\n",
    "import dl.nets.us_simulation_jit as us_simulation_jit\n",
    "from dl.nets.us_simu import VolumeSamplingBlindSweep\n"
   ]
  },
  {
   "cell_type": "code",
   "execution_count": null,
   "id": "298995b1",
   "metadata": {},
   "outputs": [],
   "source": [
    "mount_point = \"/mnt/raid/C1_ML_Analysis/\"\n",
    "diffusor_np, diffusor_head = nrrd.read(os.path.join(mount_point, \"simulated_data_export/placenta/FAM-025-0869-1_label11_resampled.nrrd\"))\n",
    "\n",
    "diffusor_size = diffusor_head['sizes']\n",
    "diffusor_spacing = np.diag(diffusor_head['space directions'])\n",
    "\n",
    "diffusor_origin = np.flip(diffusor_head['space origin'], axis=0)\n",
    "diffusor_end = diffusor_origin + diffusor_spacing * diffusor_size"
   ]
  },
  {
   "cell_type": "code",
   "execution_count": null,
   "id": "508dd407",
   "metadata": {},
   "outputs": [],
   "source": [
    "diffusor_t = torch.tensor(diffusor_np.astype(float)).unsqueeze(0).unsqueeze(0).cuda()\n",
    "diffusor_origin = torch.tensor(diffusor_origin.copy()).unsqueeze(0).cuda()\n",
    "diffusor_end = torch.tensor(diffusor_end.copy()).unsqueeze(0).cuda()\n"
   ]
  },
  {
   "cell_type": "code",
   "execution_count": null,
   "id": "75a2be05",
   "metadata": {},
   "outputs": [],
   "source": [
    "\n",
    "us_simulator = us_simulation_jit.MergedLinearLabel11().eval().cuda()\n",
    "\n",
    "grid, inverse_grid, mask_fan = us_simulator.init_grids(256, 256, 128.0, -30.0, 20.0, 215.0, 0.7853981633974483)\n",
    "grid = grid.cuda()\n",
    "inverse_grid = inverse_grid.cuda()\n",
    "mask_fan = mask_fan.cuda()\n",
    "\n",
    "us_simulator_td = TimeDistributed(us_simulator, time_dim=2).eval()\n",
    "\n",
    "vs = VolumeSamplingBlindSweep(mount_point=mount_point).cuda()"
   ]
  },
  {
   "cell_type": "code",
   "execution_count": null,
   "id": "cfc87f2e",
   "metadata": {},
   "outputs": [],
   "source": [
    "vs.tags"
   ]
  },
  {
   "cell_type": "code",
   "execution_count": null,
   "id": "faf842c8",
   "metadata": {},
   "outputs": [],
   "source": [
    "sweep = vs.get_sweep(diffusor_t, diffusor_origin, diffusor_end, vs.tags[0], use_random=False, simulator=us_simulator_td, grid=grid, inverse_grid=inverse_grid, mask_fan=mask_fan)"
   ]
  },
  {
   "cell_type": "code",
   "execution_count": null,
   "id": "e48cc0be",
   "metadata": {},
   "outputs": [],
   "source": [
    "fig = px.imshow(sweep.squeeze().detach().cpu().numpy(), animation_frame=0, binary_string=True)\n",
    "fig.show()"
   ]
  },
  {
   "cell_type": "code",
   "execution_count": null,
   "id": "2f5e39f7",
   "metadata": {},
   "outputs": [],
   "source": []
  }
 ],
 "metadata": {
  "kernelspec": {
   "display_name": "Python 3 (ipykernel)",
   "language": "python",
   "name": "python3"
  },
  "language_info": {
   "codemirror_mode": {
    "name": "ipython",
    "version": 3
   },
   "file_extension": ".py",
   "mimetype": "text/x-python",
   "name": "python",
   "nbconvert_exporter": "python",
   "pygments_lexer": "ipython3",
   "version": "3.10.14"
  }
 },
 "nbformat": 4,
 "nbformat_minor": 5
}
