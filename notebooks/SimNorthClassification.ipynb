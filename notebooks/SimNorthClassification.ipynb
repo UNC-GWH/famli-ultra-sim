{
 "cells": [
  {
   "cell_type": "code",
   "execution_count": null,
   "metadata": {},
   "outputs": [],
   "source": [
    "import torch\n",
    "import pandas as pd\n",
    "from dl.loaders import ultrasound_dataset\n",
    "from torch.utils.data import DataLoader\n",
    "import  numpy as np\n",
    "import pickle\n",
    "import os\n",
    "import plotly.express as px\n",
    "\n",
    "from sklearn.manifold import TSNE\n",
    "from sklearn.decomposition import PCA\n",
    "import random\n",
    "import SimpleITK as sitk"
   ]
  },
  {
   "cell_type": "code",
   "execution_count": null,
   "metadata": {},
   "outputs": [],
   "source": [
    "mount_point = '/mnt/raid/C1_ML_Analysis'\n",
    "\n",
    "out_dir = \"test_output/classification/extract_frames_Dataset_C_masked_resampled_256_spc075_wscores_meta_noflyto_100K_train/epoch=9-val_loss=0.27\"\n",
    "\n",
    "df = pd.read_parquet(os.path.join(mount_point, out_dir, 'extract_frames_Dataset_C_masked_resampled_256_spc075_wscores_meta_noflyto_100K_train_prediction.parquet'))\n",
    "feat = pickle.load(open(os.path.join(mount_point, out_dir, 'extract_frames_Dataset_C_masked_resampled_256_spc075_wscores_meta_noflyto_100K_train_prediction.pickle'), 'rb'))\n",
    "feat = feat.squeeze()"
   ]
  },
  {
   "cell_type": "code",
   "execution_count": null,
   "metadata": {},
   "outputs": [],
   "source": [
    "df.columns"
   ]
  },
  {
   "cell_type": "code",
   "execution_count": null,
   "metadata": {},
   "outputs": [],
   "source": [
    "\n",
    "# Apply t-SNE for dimensionality reduction to 2D\n",
    "tsne = TSNE(n_components=2, perplexity=500, n_iter=300, random_state=42)\n",
    "tsne_results = tsne.fit_transform(feat)"
   ]
  },
  {
   "cell_type": "code",
   "execution_count": null,
   "metadata": {},
   "outputs": [],
   "source": [
    "def generate_random_color():\n",
    "    return \"#{:06x}\".format(random.randint(0, 0xFFFFFF))\n",
    "\n",
    "def generate_random_colors(num_colors):\n",
    "    return [generate_random_color() for _ in range(num_colors)]\n",
    "\n",
    "\n",
    "# Generate random colors\n",
    "unique_categories = df['pred_class'].unique()\n",
    "random_colors = generate_random_colors(len(unique_categories))\n",
    "color_map = {category: color for category, color in zip(unique_categories, random_colors)}\n"
   ]
  },
  {
   "cell_type": "code",
   "execution_count": null,
   "metadata": {},
   "outputs": [],
   "source": [
    "df['tsne_0'] = tsne_results[:,0]\n",
    "df['tsne_1'] = tsne_results[:,1]\n",
    "\n",
    "fig = px.scatter(df, x='tsne_0', y='tsne_1', color='pred_class')\n",
    "fig.update_traces(marker=dict(color=[color_map[cat] for cat in df['pred_class']]))\n",
    "fig"
   ]
  },
  {
   "cell_type": "code",
   "execution_count": null,
   "metadata": {},
   "outputs": [],
   "source": [
    "pca = PCA(n_components=2)\n",
    "reduced_features = pca.fit_transform(feat)\n",
    "\n",
    "df['pca_0'] = reduced_features[:,0]\n",
    "df['pca_1'] = reduced_features[:,1]\n",
    "\n",
    "fig = px.scatter(df, x='pca_0', y='pca_1', color='pred_class')\n",
    "fig.update_traces(marker=dict(color=[color_map[cat] for cat in df['pred_class']]))\n",
    "fig"
   ]
  },
  {
   "cell_type": "code",
   "execution_count": null,
   "metadata": {},
   "outputs": [],
   "source": [
    "out_dir = \"test_output/classification/extract_frames_Dataset_C_masked_resampled_256_spc075_wscores_meta_noflyto/epoch=9-val_loss=0.27\"\n",
    "\n",
    "df_noflyto = pd.read_parquet(os.path.join(mount_point, out_dir, 'extract_frames_Dataset_C_masked_resampled_256_spc075_wscores_meta_noflyto_prediction.parquet'))\n"
   ]
  },
  {
   "cell_type": "code",
   "execution_count": null,
   "metadata": {},
   "outputs": [],
   "source": [
    "desc = df_noflyto.groupby('pred_class').describe()\n",
    "desc"
   ]
  },
  {
   "cell_type": "code",
   "execution_count": null,
   "metadata": {},
   "outputs": [],
   "source": [
    "desc[('score', 'count')].sort_values(ascending=False)"
   ]
  },
  {
   "cell_type": "code",
   "execution_count": null,
   "metadata": {},
   "outputs": [],
   "source": [
    "desc[('score', 'mean')].sort_values(ascending=False)\n"
   ]
  },
  {
   "cell_type": "code",
   "execution_count": null,
   "metadata": {},
   "outputs": [],
   "source": [
    "img_fn = os.path.join(mount_point, df_noflyto.query('pred_class == 0')['img_path'].sample(1).values[0])\n",
    "# img_fn = os.path.join(mount_point, df_noflyto['img_path'].sample(1).values[0])\n",
    "img_np = sitk.GetArrayFromImage(sitk.ReadImage(img_fn))\n",
    "\n",
    "px.imshow(img_np.squeeze())\n"
   ]
  },
  {
   "cell_type": "code",
   "execution_count": null,
   "metadata": {},
   "outputs": [],
   "source": [
    "n_samples_per_class = 1000\n",
    "sampled_df = df_noflyto.groupby('pred_class', group_keys=False).apply(lambda x: x.sample(n_samples_per_class, random_state=42))"
   ]
  },
  {
   "cell_type": "code",
   "execution_count": null,
   "metadata": {},
   "outputs": [],
   "source": [
    "# sampled_df.to_parquet(os.path.join(mount_point, out_dir, 'extract_frames_Dataset_C_masked_resampled_256_spc075_wscores_meta_noflyto_sampledwsimnorth.parquet'), index=False)\n",
    "df_voluson = pd.read_parquet(os.path.join(mount_point, 'CSV_files/extract_frames_blind_sweeps_voluson_simnorth.parquet'))"
   ]
  },
  {
   "cell_type": "code",
   "execution_count": null,
   "metadata": {},
   "outputs": [],
   "source": [
    "\n",
    "desc = df_voluson.groupby('pred_class').describe()\n",
    "desc"
   ]
  },
  {
   "cell_type": "code",
   "execution_count": null,
   "metadata": {},
   "outputs": [],
   "source": [
    "desc[('ga_boe', 'count')].sort_values(ascending=False)"
   ]
  },
  {
   "cell_type": "code",
   "execution_count": null,
   "metadata": {},
   "outputs": [],
   "source": [
    "n_samples_per_class = 25000\n",
    "sampled_df = df_voluson.groupby('pred_class', group_keys=False).apply(lambda x: x.sample(n_samples_per_class, random_state=42))\n",
    "# sampled_df.to_parquet(os.path.join(mount_point, 'CSV_files/extract_frames_blind_sweeps_voluson_sampledwsimnorth.parquet'), index=False)"
   ]
  },
  {
   "cell_type": "code",
   "execution_count": null,
   "metadata": {},
   "outputs": [],
   "source": []
  }
 ],
 "metadata": {
  "kernelspec": {
   "display_name": "Python 3 (ipykernel)",
   "language": "python",
   "name": "python3"
  },
  "language_info": {
   "codemirror_mode": {
    "name": "ipython",
    "version": 3
   },
   "file_extension": ".py",
   "mimetype": "text/x-python",
   "name": "python",
   "nbconvert_exporter": "python",
   "pygments_lexer": "ipython3",
   "version": "3.10.0"
  }
 },
 "nbformat": 4,
 "nbformat_minor": 4
}
