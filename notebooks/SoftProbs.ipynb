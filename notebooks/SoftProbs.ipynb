{
 "cells": [
  {
   "cell_type": "code",
   "execution_count": 2,
   "metadata": {},
   "outputs": [],
   "source": [
    "import torch\n",
    "import torch.nn.functional as F\n",
    "\n"
   ]
  },
  {
   "cell_type": "code",
   "execution_count": 6,
   "metadata": {},
   "outputs": [
    {
     "name": "stdout",
     "output_type": "stream",
     "text": [
      "tensor([[2.2701e-01, 7.2996e-01, 4.2991e-02, 4.6374e-05],\n",
      "        [5.1050e-04, 1.4718e-01, 7.7715e-01, 7.5161e-02]]) torch.Size([2, 4])\n",
      "tensor([1.0000, 1.0000])\n"
     ]
    }
   ],
   "source": [
    "def soft_class_probabilities(values, class_ranges):\n",
    "    # Convert value and ranges to PyTorch tensors\n",
    "    \n",
    "    centers = torch.tensor([(r[0] + r[1]) / 2 for r in class_ranges], dtype=torch.float32)\n",
    "    widths = torch.tensor([(r[1] - r[0]) / 2 for r in class_ranges], dtype=torch.float32)\n",
    "\n",
    "    print(centers)\n",
    "    print(widths)\n",
    "    \n",
    "    # Calculate unscaled probabilities using a Gaussian-like function\n",
    "    # Here, we use the negative squared distance scaled by width as logits\n",
    "    logits = -(values - centers) ** 2 / (2 * widths ** 2)\n",
    "    \n",
    "    # Apply softmax to convert logits into probabilities\n",
    "    probabilities = F.softmax(logits, dim=1)\n",
    "    \n",
    "    return probabilities\n",
    "\n",
    "# Example usage\n",
    "class_ranges = torch.tensor([[0, 25], [25, 50], [50, 75], [75, 100]])\n",
    "value = torch.tensor([32.3, 60.4]).unsqueeze(-1)  # Example value to compute probabilities for\n",
    "probabilities = soft_class_probabilities(value, class_ranges)\n",
    "print(probabilities, probabilities.shape)"
   ]
  },
  {
   "cell_type": "code",
   "execution_count": null,
   "metadata": {},
   "outputs": [],
   "source": []
  }
 ],
 "metadata": {
  "kernelspec": {
   "display_name": "Python 3 (ipykernel)",
   "language": "python",
   "name": "python3"
  },
  "language_info": {
   "codemirror_mode": {
    "name": "ipython",
    "version": 3
   },
   "file_extension": ".py",
   "mimetype": "text/x-python",
   "name": "python",
   "nbconvert_exporter": "python",
   "pygments_lexer": "ipython3",
   "version": "3.10.0"
  }
 },
 "nbformat": 4,
 "nbformat_minor": 2
}
