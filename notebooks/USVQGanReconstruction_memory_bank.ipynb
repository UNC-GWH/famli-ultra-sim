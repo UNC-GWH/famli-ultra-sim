{
 "cells": [
  {
   "cell_type": "code",
   "execution_count": null,
   "metadata": {},
   "outputs": [],
   "source": [
    "import torch\n",
    "from torch import nn\n",
    "from torch.nn import functional as F\n",
    "import importlib\n",
    "import sys\n",
    "import nrrd\n",
    "import numpy as np\n",
    "\n",
    "sys.path.append('/mnt/raid/C1_ML_Analysis/source/famli-ultra-sim/')\n",
    "sys.path.append('/mnt/raid/C1_ML_Analysis/source/famli-ultra-sim/dl/')\n",
    "sys.path.append('/mnt/raid/C1_ML_Analysis/source/famli-ultra-sim/dl/nets')\n",
    "from dl.nets import us_simu\n",
    "import plotly.express as px\n",
    "import pandas as pd\n",
    "\n",
    "from loaders.mr_us_dataset import DiffusorSampleDataset\n",
    "from transforms.mr_transforms import VolumeTrainTransforms, VolumeEvalTransforms\n",
    "\n",
    "import os"
   ]
  },
  {
   "cell_type": "code",
   "execution_count": null,
   "metadata": {},
   "outputs": [],
   "source": [
    "model = us_simu.USVQGanReconstruction.load_from_checkpoint('/mnt/raid/C1_ML_Analysis/train_output/simu_reconstruction/USVQGanReconstructionLogger/v0.1/epoch=57-val_loss_adv=0.16.ckpt', mount_point='/mnt/raid/C1_ML_Analysis')\n",
    "model = model.eval().cuda()"
   ]
  },
  {
   "cell_type": "code",
   "execution_count": null,
   "metadata": {},
   "outputs": [],
   "source": [
    "mount_point = '/mnt/raid/C1_ML_Analysis/'\n",
    "df_train = pd.read_csv(os.path.join(mount_point, 'simulated_data_export/studies_merged/diffusor_resampled_train.csv'))\n",
    "img_column = 'img_path'\n",
    "transform = VolumeEvalTransforms()\n",
    "\n",
    "train_ds = DiffusorSampleDataset(df_train, mount_point, img_column=img_column, transform=transform, num_samples=1000, return_ridx = True)\n",
    "train_dl = torch.utils.data.DataLoader(train_ds, batch_size=1)"
   ]
  },
  {
   "cell_type": "code",
   "execution_count": null,
   "metadata": {},
   "outputs": [],
   "source": [
    "def rotate_3d_tensor_around_axis(tensor, angle, axis_vector):\n",
    "    \"\"\"\n",
    "    Rotates a 3D tensor by a given angle around a specified axis vector.\n",
    "    \n",
    "    Parameters:\n",
    "        tensor (torch.Tensor): The input tensor of shape (B, NC, D, W, H).\n",
    "        angle (float): The rotation angle in degrees.\n",
    "        axis_vector (torch.Tensor): The axis vector to rotate around of shape (3,).\n",
    "        \n",
    "    Returns:\n",
    "        torch.Tensor: The rotated tensor.\n",
    "    \"\"\"\n",
    "    B, NC, D, W, H = tensor.shape\n",
    "    angle = torch.tensor(angle, dtype=torch.float32) * torch.pi / 180  # Convert angle to radians\n",
    "\n",
    "    axis_vector = axis_vector / torch.norm(axis_vector)  # Normalize the axis vector\n",
    "    u, v, w = axis_vector\n",
    "\n",
    "    cos_angle = torch.cos(angle)\n",
    "    sin_angle = torch.sin(angle)\n",
    "    one_minus_cos = 1 - cos_angle\n",
    "\n",
    "    # Rodrigues' rotation formula\n",
    "    rotation_matrix = torch.tensor([\n",
    "        [cos_angle + u**2 * one_minus_cos, u*v * one_minus_cos - w * sin_angle, u*w * one_minus_cos + v * sin_angle, 0],\n",
    "        [v*u * one_minus_cos + w * sin_angle, cos_angle + v**2 * one_minus_cos, v*w * one_minus_cos - u * sin_angle, 0],\n",
    "        [w*u * one_minus_cos - v * sin_angle, w*v * one_minus_cos + u * sin_angle, cos_angle + w**2 * one_minus_cos, 0],\n",
    "        [0, 0, 0, 1]\n",
    "    ])\n",
    "\n",
    "    # Create affine grid\n",
    "    grid = F.affine_grid(rotation_matrix[:3, :].unsqueeze(0).cuda(), tensor.size(), align_corners=False)\n",
    "    rotated_tensor = F.grid_sample(tensor, grid, align_corners=False)\n",
    "    \n",
    "    return rotated_tensor"
   ]
  },
  {
   "cell_type": "code",
   "execution_count": null,
   "metadata": {},
   "outputs": [],
   "source": [
    "features = []\n",
    "ridxs = []\n",
    "with torch.no_grad():\n",
    "    for batch in train_dl:\n",
    "        X, X_origin, X_end, ridx = batch\n",
    "        X = rotate_3d_tensor_around_axis(X.float().cuda(), torch.rand(1).item() * 360, torch.rand(3).cuda())\n",
    "        Y = model.volume_sampling(X.float().cuda(), X_origin.cuda(), X_end.cuda())\n",
    "        features.append(model.vqvae.encoder(Y).flatten(start_dim=1,))\n",
    "        ridxs.append(ridx)"
   ]
  },
  {
   "cell_type": "code",
   "execution_count": null,
   "metadata": {},
   "outputs": [],
   "source": [
    "\n",
    "features = torch.cat(features, dim=0).cpu().numpy()\n",
    "ridxs = torch.cat(ridxs, dim=0).cpu().numpy()\n",
    "np.save('/mnt/raid/C1_ML_Analysis/train_output/simu_reconstruction/USVQGanReconstructionLogger/v0.1/encoded_features.npy', features)\n",
    "np.save('/mnt/raid/C1_ML_Analysis/train_output/simu_reconstruction/USVQGanReconstructionLogger/v0.1/ridxs.npy', ridxs)"
   ]
  },
  {
   "cell_type": "code",
   "execution_count": null,
   "metadata": {},
   "outputs": [],
   "source": [
    "from sklearn.decomposition import PCA\n",
    "pca = PCA(n_components=2)\n",
    "features_t = pca.fit_transform(features)"
   ]
  },
  {
   "cell_type": "code",
   "execution_count": null,
   "metadata": {},
   "outputs": [],
   "source": [
    "feat_df = pd.DataFrame(features_t, columns=['PCA1', 'PCA2'])\n",
    "feat_df['ridx'] = ridxs\n",
    "\n",
    "px.scatter(feat_df, x='PCA1', y='PCA2', color='ridx').show()"
   ]
  },
  {
   "cell_type": "code",
   "execution_count": null,
   "metadata": {},
   "outputs": [],
   "source": []
  }
 ],
 "metadata": {
  "kernelspec": {
   "display_name": "Python 3 (ipykernel)",
   "language": "python",
   "name": "python3"
  },
  "language_info": {
   "codemirror_mode": {
    "name": "ipython",
    "version": 3
   },
   "file_extension": ".py",
   "mimetype": "text/x-python",
   "name": "python",
   "nbconvert_exporter": "python",
   "pygments_lexer": "ipython3",
   "version": "3.10.0"
  }
 },
 "nbformat": 4,
 "nbformat_minor": 2
}
