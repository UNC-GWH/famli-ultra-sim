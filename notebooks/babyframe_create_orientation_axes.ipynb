{
 "cells": [
  {
   "cell_type": "code",
   "execution_count": null,
   "metadata": {},
   "outputs": [],
   "source": [
    "import os\n",
    "import sys\n",
    "\n",
    "from torch.utils.data import Dataset, DataLoader\n",
    "import pandas as pd\n",
    "import numpy as np\n",
    "import SimpleITK as sitk\n",
    "import nrrd\n",
    "import vtk\n",
    "\n",
    "import torch\n",
    "from torch import nn\n",
    "from torch.nn import functional as F\n",
    "from torchvision import transforms\n",
    "\n",
    "import pytorch_lightning as pl\n",
    "import pickle\n",
    "import monai \n",
    "import glob \n",
    "import plotly.graph_objects as go\n",
    "import plotly.express as px\n",
    "from plotly.subplots import make_subplots\n",
    "import matplotlib.pyplot as plt\n",
    "from mpl_toolkits.mplot3d import Axes3D\n",
    "\n",
    "\n",
    "sys.path.append('/mnt/raid/C1_ML_Analysis/source/famli-ultra-sim/')\n",
    "sys.path.append('/mnt/raid/C1_ML_Analysis/source/famli-ultra-sim/dl')\n",
    "import dl.loaders.ultrasound_dataset as ultrasound_dataset\n",
    "import dl.transforms.ultrasound_transforms as ultrasound_transforms\n",
    "import dl.nets.us_simulation_jit as us_simulation_jit\n",
    "import dl.nets.us_simu as us_simu\n",
    "\n",
    "import importlib\n",
    "\n",
    "from pytorch3d.ops import (knn_points, \n",
    "                           knn_gather)\n",
    "\n",
    "sys.path.append('/mnt/raid/C1_ML_Analysis/source/ShapeAXI/src/')\n",
    "from shapeaxi.saxi_layers import SelfAttention\n"
   ]
  },
  {
   "cell_type": "code",
   "execution_count": null,
   "metadata": {},
   "outputs": [],
   "source": [
    "def plot_diffusion(X, P=None, frame=None, scale=10):\n",
    "    num_surf = len(X)\n",
    "    specs_r = [{'type': 'scatter3d'} for _ in range(num_surf)]\n",
    "\n",
    "    fig = make_subplots(\n",
    "        rows=1, cols=num_surf,\n",
    "        specs=[specs_r]\n",
    "    )\n",
    "\n",
    "    for idx, x in zip(range(num_surf), X):\n",
    "        # First scatter plot\n",
    "        fig.add_trace(\n",
    "            go.Scatter3d(x=x[:,0], y=x[:,1], z=x[:,2], mode='markers', marker=dict(\n",
    "                size=2,\n",
    "                color=x[:,2],                # set color to an array/list of desired values\n",
    "                colorscale='Viridis',   # choose a colorscale\n",
    "                opacity=0.8\n",
    "            )),\n",
    "            row=1, col=idx+1\n",
    "        )\n",
    "\n",
    "    if P is not None:\n",
    "        for idx, p in zip(range(num_surf), P):\n",
    "            fig.add_trace(\n",
    "                go.Scatter3d(x=p[:,0], y=p[:,1], z=p[:,2], mode='markers', marker=dict(\n",
    "                    size=4,\n",
    "                    color='red',                # set color to an array/list of desired values\n",
    "                    opacity=1,\n",
    "                )),\n",
    "                row=1, col=idx+1\n",
    "            )\n",
    "\n",
    "    if frame is not None:\n",
    "        for idx, f in zip(range(num_surf), frame):\n",
    "\n",
    "            origin = P[idx,0]     \n",
    "\n",
    "            for i in range(3):\n",
    "                fig.add_trace(go.Scatter3d(\n",
    "                    x=[origin[0], origin[0] + f[i, 0]*scale],\n",
    "                    y=[origin[1], origin[1] + f[i, 1]*scale],\n",
    "                    z=[origin[2], origin[2] + f[i, 2]*scale],\n",
    "                    mode='lines',\n",
    "                    line=dict(color='cyan', width=8),\n",
    "                ), \n",
    "                row=1, col=idx+1)\n",
    "\n",
    "    return fig\n",
    "\n",
    "def compute_orthogonal_frame(points: torch.Tensor) -> torch.Tensor:    \n",
    "    \"\"\"\n",
    "    Given a tensor of shape [B, 3, 3] representing three 3D points per batch,\n",
    "    returns a tensor of shape [B, 3, 3] representing an orthogonal frame [x, y, z] for each batch.\n",
    "    \"\"\"\n",
    "    p0 = points[:, 0]\n",
    "    p1 = points[:, 1]\n",
    "    p2 = points[:, 2]\n",
    "    \n",
    "    v1 = p1 - p0\n",
    "    v2 = p2 - p0\n",
    "\n",
    "    # Normalize x (first direction)\n",
    "    x = F.normalize(v1, dim=1)\n",
    "\n",
    "    # Compute z = normalized cross(v1, v2)\n",
    "    z = F.normalize(torch.cross(v1, v2, dim=1), dim=1)\n",
    "\n",
    "    # Compute y = cross(z, x)\n",
    "    y = torch.cross(z, x, dim=1)\n",
    "\n",
    "    # Stack the vectors as rows of the rotation matrix\n",
    "    frame = torch.stack([x, y, z], dim=1)  # [B, 3, 3]\n",
    "\n",
    "    return frame"
   ]
  },
  {
   "cell_type": "code",
   "execution_count": null,
   "metadata": {},
   "outputs": [],
   "source": [
    "# fig = plot_diffusion(X_PC.cpu().numpy())\n",
    "# fig.show()"
   ]
  },
  {
   "cell_type": "code",
   "execution_count": null,
   "metadata": {},
   "outputs": [],
   "source": [
    "# p = torch.tensor([[0.04572, 0.6788, 0.5607], [-3.0951, 0.1676, -1.2842], [0.3316, -8.0302, 0.38299]]) # hands on head model. We picked a point on the head, the belly and shoulder \n",
    "# dist = knn_points(p.unsqueeze(0), X_PC, K=1)\n",
    "# dist.idx\n",
    "# idx = dist.idx\n",
    "\n",
    "# idx = torch.tensor([[[1470],\n",
    "#          [3369],\n",
    "#          [2043]]])\n",
    "\n",
    "# k = knn_gather(X_PC, idx).squeeze(2)\n",
    "\n",
    "# frame = compute_orthogonal_frame(k)\n",
    "# plot_diffusion(X_PC.cpu().numpy(), k.cpu().numpy(), frame.cpu().numpy())\n"
   ]
  },
  {
   "cell_type": "code",
   "execution_count": null,
   "metadata": {},
   "outputs": [],
   "source": [
    "rest = np.load(\"/mnt/raid/C1_ML_Analysis/simulated_data_export/fetus_rest_selected/rest.npy\")\n",
    "\n",
    "head = np.load(\"/mnt/raid/C1_ML_Analysis/simulated_data_export/fetus_rest_selected/head.npy\")\n",
    "belly = np.load(\"/mnt/raid/C1_ML_Analysis/simulated_data_export/fetus_rest_selected/belly.npy\")\n",
    "side = np.load(\"/mnt/raid/C1_ML_Analysis/simulated_data_export/fetus_rest_selected/side.npy\")"
   ]
  },
  {
   "cell_type": "code",
   "execution_count": null,
   "metadata": {},
   "outputs": [],
   "source": [
    "rest_pc = torch.tensor(rest).to(torch.float32)\n",
    "head_pc = torch.tensor(head).unsqueeze(0).to(torch.float32)\n",
    "belly_pc = torch.tensor(belly).unsqueeze(0).to(torch.float32)\n",
    "side_pc = torch.tensor(side).unsqueeze(0).to(torch.float32)"
   ]
  },
  {
   "cell_type": "code",
   "execution_count": null,
   "metadata": {},
   "outputs": [],
   "source": [
    "side_pc.shape"
   ]
  },
  {
   "cell_type": "code",
   "execution_count": null,
   "metadata": {},
   "outputs": [],
   "source": [
    "\n",
    "dist = knn_points(head_pc, rest_pc, K=1)\n",
    "head_idx = dist.idx\n",
    "\n",
    "head_k = knn_gather(rest_pc, head_idx).squeeze(2)\n",
    "\n",
    "dist = knn_points(belly_pc, rest_pc, K=1)\n",
    "belly_idx = dist.idx\n",
    "belly_k = knn_gather(rest_pc, belly_idx).squeeze(2)\n",
    "\n",
    "dist = knn_points(side_pc, rest_pc, K=1)\n",
    "side_idx = dist.idx\n",
    "side_k = knn_gather(rest_pc, side_idx).squeeze(2)\n",
    "\n",
    "rest_points = torch.stack([torch.mean(belly_k, dim=1), \n",
    "                           torch.mean(head_k, dim=1),\n",
    "                           torch.mean(side_k, dim=1)], dim=1)\n",
    "\n",
    "frame_rest = compute_orthogonal_frame(rest_points)\n",
    "plot_diffusion(rest_pc.cpu().numpy(), rest_points.cpu().numpy(), frame_rest.cpu().numpy(), scale=1)"
   ]
  },
  {
   "cell_type": "code",
   "execution_count": null,
   "metadata": {},
   "outputs": [],
   "source": [
    "batch_size = 4\n",
    "dm = ultrasound_dataset.ImgPCDataModule(\n",
    "    mount_point=\"/mnt/raid/C1_ML_Analysis/simulated_data_export\",\n",
    "    csv_train=\"simulated_data_export/studies_fetus_train_train.csv\",\n",
    "    np_train=\"simulated_data_export/studies_fetus_train_train.npy\",\n",
    "    csv_valid=\"simulated_data_export/studies_fetus_train_test.csv\",\n",
    "    np_valid=\"simulated_data_export/studies_fetus_train_test.npy\",\n",
    "    csv_test=\"simulated_data_export/studies_fetus_test.csv\",\n",
    "    np_test=\"simulated_data_export/studies_fetus_test.npy\",\n",
    "    num_samples_train=5000,\n",
    "    rescale_factor=10,\n",
    "    batch_size=1\n",
    "    )\n",
    "dm.setup()"
   ]
  },
  {
   "cell_type": "code",
   "execution_count": null,
   "metadata": {},
   "outputs": [],
   "source": [
    "dl_test = dm.test_dataloader()\n",
    "it = iter(dl_test)"
   ]
  },
  {
   "cell_type": "code",
   "execution_count": null,
   "metadata": {},
   "outputs": [],
   "source": [
    "X, X_origin, X_end, X_PC = next(it)\n",
    "X = X[0:1]\n",
    "X_origin = X_origin[0:1] \n",
    "X_end = X_end[0:1]\n",
    "X_PC = X_PC[0:1]"
   ]
  },
  {
   "cell_type": "code",
   "execution_count": null,
   "metadata": {},
   "outputs": [],
   "source": [
    "\n",
    "pc_head_k = knn_gather(X_PC, head_idx).squeeze(2)\n",
    "pc_belly_k = knn_gather(X_PC, belly_idx).squeeze(2)\n",
    "pc_side_k = knn_gather(X_PC, side_idx).squeeze(2)\n",
    "\n",
    "points = torch.stack([torch.mean(pc_belly_k, dim=1),\n",
    "                      torch.mean(pc_head_k, dim=1),\n",
    "                      torch.mean(pc_side_k, dim=1)], dim=1)\n",
    "\n",
    "frame = compute_orthogonal_frame(points)\n",
    "plot_diffusion(X_PC.cpu().numpy(), points.cpu().numpy(), frame.cpu().numpy(), scale=10)"
   ]
  },
  {
   "cell_type": "code",
   "execution_count": null,
   "metadata": {},
   "outputs": [],
   "source": [
    "# np.save(\"/mnt/raid/C1_ML_Analysis/simulated_data_export/fetus_rest_selected/head_idx.npy\", head_idx.cpu().numpy())\n",
    "# np.save(\"/mnt/raid/C1_ML_Analysis/simulated_data_export/fetus_rest_selected/belly_idx.npy\", belly_idx.cpu().numpy())\n",
    "# np.save(\"/mnt/raid/C1_ML_Analysis/simulated_data_export/fetus_rest_selected/side_idx.npy\", side_idx.cpu().numpy())"
   ]
  },
  {
   "cell_type": "code",
   "execution_count": null,
   "metadata": {},
   "outputs": [],
   "source": []
  }
 ],
 "metadata": {
  "kernelspec": {
   "display_name": "Python 3 (ipykernel)",
   "language": "python",
   "name": "python3"
  },
  "language_info": {
   "codemirror_mode": {
    "name": "ipython",
    "version": 3
   },
   "file_extension": ".py",
   "mimetype": "text/x-python",
   "name": "python",
   "nbconvert_exporter": "python",
   "pygments_lexer": "ipython3",
   "version": "3.10.14"
  }
 },
 "nbformat": 4,
 "nbformat_minor": 2
}
