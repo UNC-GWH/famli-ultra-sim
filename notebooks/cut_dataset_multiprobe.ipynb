{
 "cells": [
  {
   "cell_type": "code",
   "execution_count": 1,
   "metadata": {},
   "outputs": [],
   "source": [
    "import os\n",
    "import pandas as pd\n",
    "import plotly.express as px\n",
    "import plotly.graph_objects as go\n",
    "import SimpleITK as sitk\n",
    "import numpy as np"
   ]
  },
  {
   "cell_type": "code",
   "execution_count": null,
   "metadata": {},
   "outputs": [],
   "source": [
    "df_clarius = pd.read_csv('/mnt/raid/C1_ML_Analysis/CSV_files/c2_instance_table_clarius.csv')\n",
    "df_clarius_resampled = df_clarius.copy()\n"
   ]
  },
  {
   "cell_type": "code",
   "execution_count": null,
   "metadata": {},
   "outputs": [],
   "source": [
    "df_clarius_resampled['file_path'] = df_clarius['file_path'].str.replace('Groups/FAMLI/Restricted_access_data/Ultrasound/Dataset_C2', 'Dataset_C2_masked_resampled_256_spc075').str.replace('.dcm', '.nrrd')\n",
    "# df_clarius_resampled.to_csv('/mnt/raid/C1_ML_Analysis/CSV_files/c2_instance_table_clarius_resampled.csv', index=False)"
   ]
  },
  {
   "cell_type": "code",
   "execution_count": null,
   "metadata": {},
   "outputs": [],
   "source": [
    "# df_clarius_resampled['file_path'].to_csv('/mnt/raid/C1_ML_Analysis/CSV_files/c2_instance_table_clarius_resampled_file_path.csv', index=False)"
   ]
  },
  {
   "cell_type": "code",
   "execution_count": null,
   "metadata": {},
   "outputs": [],
   "source": [
    "df_clarius_resampled_extract_frames = pd.read_csv('/mnt/raid/C1_ML_Analysis/CSV_files/c2_instance_table_clarius_resampled_file_path_extract_frames_blind_sweeps.csv')"
   ]
  },
  {
   "cell_type": "code",
   "execution_count": null,
   "metadata": {},
   "outputs": [],
   "source": [
    "fname_ids = df_clarius_resampled_extract_frames['file_path'].apply(lambda f: os.path.basename(os.path.dirname(f)))\n",
    "df_clarius_resampled_extract_frames['fname_ids'] = fname_ids"
   ]
  },
  {
   "cell_type": "code",
   "execution_count": null,
   "metadata": {},
   "outputs": [],
   "source": [
    "fname_ids = df_clarius_resampled['file'].apply(lambda f: os.path.splitext(f)[0])\n",
    "df_clarius_resampled['fname_ids'] = fname_ids"
   ]
  },
  {
   "cell_type": "code",
   "execution_count": null,
   "metadata": {},
   "outputs": [],
   "source": [
    "df_clarius_resampled_extract_frames_merged = df_clarius_resampled_extract_frames.merge(df_clarius_resampled, on='fname_ids', how='left')"
   ]
  },
  {
   "cell_type": "code",
   "execution_count": null,
   "metadata": {},
   "outputs": [],
   "source": [
    "# df_clarius_resampled_extract_frames_merged.to_parquet('/mnt/raid/C1_ML_Analysis/CSV_files/c2_instance_table_clarius_resampled_file_path_extract_frames_blind_sweeps_merged.parquet', index=False)"
   ]
  },
  {
   "cell_type": "code",
   "execution_count": null,
   "metadata": {},
   "outputs": [],
   "source": [
    "df_clarius_resampled_extract_frames_merged.head()"
   ]
  },
  {
   "cell_type": "code",
   "execution_count": null,
   "metadata": {},
   "outputs": [],
   "source": [
    "df_sonosite = pd.read_csv('/mnt/raid/C1_ML_Analysis/CSV_files/c2_instance_table_clarius.csv')\n",
    "df_clarius_resampled = df_clarius.copy()"
   ]
  },
  {
   "cell_type": "code",
   "execution_count": null,
   "metadata": {},
   "outputs": [],
   "source": [
    "df_sonosite = pd.read_csv('/mnt/raid/C1_ML_Analysis/CSV_files/c1_instance_table_sonosite.csv')\n",
    "df_sonosite_resampled = df_sonosite.copy()\n",
    "\n",
    "df_sonosite_resampled['file_path'] = df_sonosite['file_path'].str.replace('Groups/FAMLI/Restricted_access_data/Ultrasound/Dataset_C1', 'Dataset_C1_masked_resampled_256_spc075').str.replace('.dcm', '.nrrd')\n",
    "# df_sonosite_resampled.to_csv('/mnt/raid/C1_ML_Analysis/CSV_files/c1_instance_table_sonosite_resampled.csv', index=False)\n",
    "# df_sonosite_resampled['file_path'].to_csv('/mnt/raid/C1_ML_Analysis/CSV_files/c1_instance_table_sonosite_resampled_file_path.csv', index=False)"
   ]
  },
  {
   "cell_type": "code",
   "execution_count": null,
   "metadata": {},
   "outputs": [],
   "source": [
    "# This file is generated in the command line -> cat CSV_files/c1_instance_table_sonosite_resampled_file_path.csv | while read files; do dir_name=${files/.nrrd//}; find extract_frames_blind_sweeps/${dir_name} -name *.nrrd; done > CSV_files/c1_instance_table_sonosite_resampled_file_path_extract_frames_blind_sweeps.csv\n",
    "df_sonosite_resampled_extract_frames = pd.read_csv('/mnt/raid/C1_ML_Analysis/CSV_files/c1_instance_table_sonosite_resampled_file_path_extract_frames_blind_sweeps.csv')"
   ]
  },
  {
   "cell_type": "code",
   "execution_count": null,
   "metadata": {},
   "outputs": [],
   "source": [
    "\n",
    "fname_ids = df_sonosite_resampled_extract_frames['file_path'].apply(lambda f: os.path.basename(os.path.dirname(f)))\n",
    "df_sonosite_resampled_extract_frames['fname_ids'] = fname_ids"
   ]
  },
  {
   "cell_type": "code",
   "execution_count": null,
   "metadata": {},
   "outputs": [],
   "source": [
    "fname_ids = df_sonosite_resampled['file'].apply(lambda f: os.path.splitext(f)[0])\n",
    "df_sonosite_resampled['fname_ids'] = fname_ids"
   ]
  },
  {
   "cell_type": "code",
   "execution_count": null,
   "metadata": {},
   "outputs": [],
   "source": [
    "df_sonosite_resampled_extract_frames_merged = df_sonosite_resampled_extract_frames.merge(df_sonosite_resampled, on='fname_ids', how='left')"
   ]
  },
  {
   "cell_type": "code",
   "execution_count": null,
   "metadata": {},
   "outputs": [],
   "source": [
    "# df_sonosite_resampled_extract_frames_merged.to_parquet('/mnt/raid/C1_ML_Analysis/CSV_files/c1_instance_table_sonosite_resampled_file_path_extract_frames_blind_sweeps_merged.parquet', index=False)"
   ]
  },
  {
   "cell_type": "code",
   "execution_count": 2,
   "metadata": {},
   "outputs": [],
   "source": [
    "df_butterfly = pd.read_parquet('/mnt/raid/C1_ML_Analysis/CSV_files/extract_frames_blind_sweeps_butterfly.parquet')"
   ]
  },
  {
   "cell_type": "code",
   "execution_count": 6,
   "metadata": {},
   "outputs": [],
   "source": [
    "df_butterfly.columns"
   ]
  }
 ],
 "metadata": {
  "kernelspec": {
   "display_name": "Python 3 (ipykernel)",
   "language": "python",
   "name": "python3"
  }
 },
 "nbformat": 4,
 "nbformat_minor": 2
}
