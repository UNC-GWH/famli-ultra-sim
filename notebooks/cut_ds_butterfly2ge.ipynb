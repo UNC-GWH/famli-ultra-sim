{
 "cells": [
  {
   "cell_type": "code",
   "execution_count": 1,
   "id": "ad021602-f334-43b9-8f83-6113ce49cdf9",
   "metadata": {},
   "outputs": [],
   "source": [
    "import pandas as pd\n",
    "import os\n",
    "import numpy as np\n",
    "import plotly\n",
    "import plotly.express as px\n",
    "import SimpleITK as sitk\n",
    "import sys\n",
    "import torch\n",
    "\n",
    "sys.path.append(\"/mnt/raid/C1_ML_Analysis/source/famli-ultra-sim/dl/\")\n",
    "from transforms.ultrasound_transforms import RealUSEvalTransformsV2\n",
    "from nets import cut\n",
    "\n",
    "from monai.transforms import (    \n",
    "    LoadImage\n",
    ")\n"
   ]
  },
  {
   "cell_type": "code",
   "execution_count": 9,
   "id": "d7faffe7",
   "metadata": {},
   "outputs": [],
   "source": [
    "# model_fn = '/mnt/raid/C1_ML_Analysis/train_output/Cut/butterfly2voluson/v0.2/epoch=56-val_loss=3.77.ckpt'\n",
    "\n",
    "# model = cut.CutG.load_from_checkpoint(model_fn).eval()\n",
    "# x = torch.rand(1, 1, 256, 256)\n",
    "# model.to_torchscript(file_path=\"/mnt/famli_netapp_shared/C1_ML_Analysis/trained_models/cut/butterfly2voluson_v0.2_epoch=56-val_loss=3.77.pt\", method=\"trace\", example_inputs=x.cuda())"
   ]
  },
  {
   "cell_type": "code",
   "execution_count": 3,
   "id": "41e3f0e6",
   "metadata": {},
   "outputs": [],
   "source": [
    "model = torch.jit.load(\"/mnt/famli_netapp_shared/C1_ML_Analysis/trained_models/cut/butterfly2voluson.pt\")\n",
    "model = model.cuda()"
   ]
  },
  {
   "cell_type": "code",
   "execution_count": 4,
   "id": "9247bfdf-8137-41a6-92e8-952545993891",
   "metadata": {},
   "outputs": [],
   "source": [
    "df = pd.read_parquet(\"/mnt/raid/C1_ML_Analysis/CSV_files/extract_frames_blind_sweeps_butterfly_test.parquet\")"
   ]
  },
  {
   "cell_type": "code",
   "execution_count": null,
   "id": "24eaa2d9-ebf4-4af9-a8d1-24cea6d5df30",
   "metadata": {},
   "outputs": [],
   "source": [
    "df.columns"
   ]
  },
  {
   "cell_type": "code",
   "execution_count": null,
   "id": "97ff012c-d8b3-4119-89b7-491320abaafe",
   "metadata": {},
   "outputs": [],
   "source": [
    "fn = os.path.join('/mnt/raid/C1_ML_Analysis', df['img_path'].loc[np.random.randint(len(df))])\n",
    "img = sitk.ReadImage(fn)\n",
    "img_np = sitk.GetArrayFromImage(img)\n",
    "\n",
    "# img_t = LoadImage()(fn)\n",
    "\n",
    "# img_t = RealUSEvalTransformsV2()(img_np.astype(float))\n",
    "\n",
    "# img_t.max()\n",
    "px.imshow(img_np[:,:,0])"
   ]
  },
  {
   "cell_type": "code",
   "execution_count": null,
   "id": "7f71d2ef",
   "metadata": {},
   "outputs": [],
   "source": [
    "img_t = torch.tensor(img_np[:,:,0]).unsqueeze(0).unsqueeze(0).float().cuda()\n",
    "img_out = model(img_t)\n",
    "px.imshow(img_out.cpu().detach().numpy().squeeze())"
   ]
  },
  {
   "cell_type": "code",
   "execution_count": null,
   "id": "ce8a680c",
   "metadata": {},
   "outputs": [],
   "source": []
  }
 ],
 "metadata": {
  "kernelspec": {
   "display_name": "Python 3 (ipykernel)",
   "language": "python",
   "name": "python3"
  },
  "language_info": {
   "codemirror_mode": {
    "name": "ipython",
    "version": 3
   },
   "file_extension": ".py",
   "mimetype": "text/x-python",
   "name": "python",
   "nbconvert_exporter": "python",
   "pygments_lexer": "ipython3",
   "version": "3.10.14"
  }
 },
 "nbformat": 4,
 "nbformat_minor": 5
}
