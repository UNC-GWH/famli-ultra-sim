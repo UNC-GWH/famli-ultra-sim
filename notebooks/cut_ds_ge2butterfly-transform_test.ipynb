{
 "cells": [
  {
   "cell_type": "code",
   "execution_count": null,
   "id": "531be99f-e31c-4d0f-9775-26347ec853e8",
   "metadata": {},
   "outputs": [],
   "source": [
    "import torch\n",
    "import numpy as np\n",
    "import matplotlib as mpl\n",
    "import matplotlib.pyplot as plt\n",
    "import nrrd\n",
    "import pandas as pd\n",
    "import os\n",
    "import sys\n",
    "import monai\n",
    "\n",
    "sys.path.append(\"/mnt/famli_netapp_shared/C1_ML_Analysis/src/famli-ultra-sim/dl/\")\n",
    "sys.path.append(\"/mnt/famli_netapp_shared/C1_ML_Analysis/src/famli-ultra-sim/dl/nets\")\n",
    "\n",
    "from loaders.ultrasound_dataset import USDatasetV2\n",
    "from transforms.ultrasound_transforms import RealUSEvalTransforms"
   ]
  },
  {
   "cell_type": "code",
   "execution_count": null,
   "id": "b81a4ab7-95d5-4168-953c-d265c6aa1451",
   "metadata": {},
   "outputs": [],
   "source": [
    "# model_fn = '/mnt/raid/C1_ML_Analysis/train_output/Cut/voluson2butterfly/v0.2/last.ckpt'\n",
    "\n",
    "# model = cut.CutG.load_from_checkpoint(model_fn).eval()\n",
    "# x = torch.rand(1, 1, 256, 256)\n",
    "# model.to_torchscript(file_path=\"/mnt/famli_netapp_shared/C1_ML_Analysis/src/famli-ultra-sim/trained_models/cutG_v0.2_last.pt\", method=\"trace\", example_inputs=x.cuda())"
   ]
  },
  {
   "cell_type": "code",
   "execution_count": null,
   "id": "57591c15-6a16-42fb-98ae-ea87642a59c4",
   "metadata": {},
   "outputs": [],
   "source": [
    "model = torch.jit.load(\"/mnt/famli_netapp_shared/C1_ML_Analysis/src/famli-ultra-sim/trained_models/cutG_v0.2_last.pt\")\n",
    "model = model.cuda()"
   ]
  },
  {
   "cell_type": "code",
   "execution_count": null,
   "id": "358c07ca-a91f-48e5-a558-0701da721fae",
   "metadata": {},
   "outputs": [],
   "source": [
    "df = pd.read_csv('/mnt/raid/C1_ML_Analysis/CSV_files/extract_frames_blind_sweeps_voluson_test_tmp2.csv')\n",
    "valid_transform = RealUSEvalTransforms()    \n",
    "test_ds = monai.data.Dataset(data=USDatasetV2(df, mount_point='/mnt/raid/C1_ML_Analysis/', img_column='img_path', transform=valid_transform))\n",
    "# test_dl = DataLoader(test_ds, batch_size=1, num_workers=args.num_workers, pin_memory=True, shuffle=False)"
   ]
  },
  {
   "cell_type": "code",
   "execution_count": null,
   "id": "93b03a26-de9d-43b8-b2d6-8a2e5cdacbac",
   "metadata": {},
   "outputs": [],
   "source": [
    "idx = np.random.randint(low=0, high=len(test_ds))\n",
    "plt.style.use(\"default\")\n",
    "plt.figure(figsize=(32,24)) # specifying the overall grid size\n",
    "plt.subplot(221) \n",
    "plt.imshow(test_ds[idx].permute(1,2,0).cpu().numpy())\n",
    "plt.tight_layout()\n",
    "plt.axis(\"off\")\n",
    "plt.subplot(222) \n",
    "plt.imshow(model(test_ds[idx][None,:].cuda())[0].permute(1,2,0).detach().cpu().numpy())\n",
    "plt.tight_layout()\n",
    "plt.axis(\"off\")\n",
    "plt.show()"
   ]
  },
  {
   "cell_type": "code",
   "execution_count": null,
   "id": "0ed2916f",
   "metadata": {},
   "outputs": [],
   "source": []
  }
 ],
 "metadata": {
  "kernelspec": {
   "display_name": "Python 3 (ipykernel)",
   "language": "python",
   "name": "python3"
  },
  "language_info": {
   "codemirror_mode": {
    "name": "ipython",
    "version": 3
   },
   "file_extension": ".py",
   "mimetype": "text/x-python",
   "name": "python",
   "nbconvert_exporter": "python",
   "pygments_lexer": "ipython3",
   "version": "3.10.14"
  }
 },
 "nbformat": 4,
 "nbformat_minor": 5
}
