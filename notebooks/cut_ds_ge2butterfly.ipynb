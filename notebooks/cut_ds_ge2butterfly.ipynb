{
 "cells": [
  {
   "cell_type": "code",
   "execution_count": null,
   "id": "ad021602-f334-43b9-8f83-6113ce49cdf9",
   "metadata": {},
   "outputs": [],
   "source": [
    "import pandas as pd\n",
    "import os\n",
    "import numpy as np\n",
    "import plotly\n",
    "import plotly.express as px\n",
    "import SimpleITK as sitk\n",
    "import sys\n",
    "\n",
    "sys.path.append(\"/mnt/famli_netapp_shared/C1_ML_Analysis/src/famli-ultra-sim/dl/\")\n",
    "from transforms.ultrasound_transforms import RealUSTrainTransforms"
   ]
  },
  {
   "cell_type": "code",
   "execution_count": null,
   "id": "9247bfdf-8137-41a6-92e8-952545993891",
   "metadata": {},
   "outputs": [],
   "source": [
    "df = pd.read_parquet(\"/mnt/raid/C1_ML_Analysis/CSV_files/extract_frames_blind_sweeps_c1_30082022.parquet\")"
   ]
  },
  {
   "cell_type": "code",
   "execution_count": null,
   "id": "24eaa2d9-ebf4-4af9-a8d1-24cea6d5df30",
   "metadata": {},
   "outputs": [],
   "source": [
    "df.columns"
   ]
  },
  {
   "cell_type": "code",
   "execution_count": null,
   "id": "64329596-3534-45a5-94e5-4332a1a22deb",
   "metadata": {},
   "outputs": [],
   "source": [
    "study_id_voluson = df.query('ManufacturerModelName == \"Voluson S\"')['study_id'].drop_duplicates()"
   ]
  },
  {
   "cell_type": "code",
   "execution_count": null,
   "id": "5fd56187-1da0-44d1-9ee9-bde635af7e0b",
   "metadata": {},
   "outputs": [],
   "source": [
    "df_c = pd.read_parquet('/mnt/raid/C1_ML_Analysis/CSV_files/extract_frames_Dataset_C_masked_resampled_256_spc075_wscores.parquet')"
   ]
  },
  {
   "cell_type": "code",
   "execution_count": null,
   "id": "8954d511-77e6-48c8-99be-8faa596e230e",
   "metadata": {},
   "outputs": [],
   "source": [
    "study_id_butterfly = df_c[df_c['study_id'].isin(study_id_voluson)]['study_id'].drop_duplicates()"
   ]
  },
  {
   "cell_type": "code",
   "execution_count": null,
   "id": "4c09b5b2-35bc-4c83-8d77-ccd9824048ff",
   "metadata": {},
   "outputs": [],
   "source": [
    "study_id_voluson = study_id_voluson[study_id_voluson.isin(study_id_butterfly)].drop_duplicates()"
   ]
  },
  {
   "cell_type": "code",
   "execution_count": null,
   "id": "753d99ee-c1d9-4b03-b223-0f9cf99c77fa",
   "metadata": {},
   "outputs": [],
   "source": [
    "df_voluson = df.query('ManufacturerModelName == \"Voluson S\"')\n",
    "df_voluson = df_voluson[df_voluson['study_id'].isin(study_id_butterfly)]"
   ]
  },
  {
   "cell_type": "code",
   "execution_count": null,
   "id": "13305e6f-7494-44c5-8cdf-cfb4ad089196",
   "metadata": {},
   "outputs": [],
   "source": [
    "df_butterfly = df_c[df_c['study_id'].isin(study_id_voluson)]"
   ]
  },
  {
   "cell_type": "code",
   "execution_count": null,
   "id": "b46fd5dd-b092-420e-ae7a-11687e11e711",
   "metadata": {},
   "outputs": [],
   "source": [
    "study_id_voluson.sort_values().to_csv('/mnt/raid/C1_ML_Analysis/CSV_files/extract_frames_study_id_voluson_butterfly.csv', index=False)"
   ]
  },
  {
   "cell_type": "code",
   "execution_count": null,
   "id": "9bf69e10-70bf-4a25-b068-be887f30b0ec",
   "metadata": {},
   "outputs": [],
   "source": [
    "df_voluson.to_parquet('/mnt/raid/C1_ML_Analysis/CSV_files/extract_frames_blind_sweeps_voluson.parquet', index=False)"
   ]
  },
  {
   "cell_type": "code",
   "execution_count": null,
   "id": "dcc7dadb-b92c-458c-b942-22990191f691",
   "metadata": {},
   "outputs": [],
   "source": [
    "df_butterfly.to_parquet('/mnt/raid/C1_ML_Analysis/CSV_files/extract_frames_blind_sweeps_butterfly.parquet', index=False)"
   ]
  },
  {
   "cell_type": "code",
   "execution_count": null,
   "id": "4631fb6e-e394-458b-862d-1ccbf7ad78ff",
   "metadata": {},
   "outputs": [],
   "source": [
    "df_t = pd.read_parquet('/mnt/raid/C1_ML_Analysis/CSV_files/extract_frames_blind_sweeps_voluson_train_train.parquet')"
   ]
  },
  {
   "cell_type": "code",
   "execution_count": null,
   "id": "082fa027-ebe4-4942-8081-9b8c098c9b68",
   "metadata": {},
   "outputs": [],
   "source": [
    "df_bt = pd.read_parquet('/mnt/raid/C1_ML_Analysis/CSV_files/extract_frames_blind_sweeps_butterfly_train_test_50K.parquet')"
   ]
  },
  {
   "cell_type": "code",
   "execution_count": null,
   "id": "6e9ea4af-0222-4bc8-9772-6027d1453c9f",
   "metadata": {},
   "outputs": [],
   "source": [
    "df_vt = pd.read_parquet('/mnt/raid/C1_ML_Analysis/CSV_files/extract_frames_blind_sweeps_voluson_train_test_50K.parquet')"
   ]
  },
  {
   "cell_type": "code",
   "execution_count": null,
   "id": "4ca9ae19-1a0e-49fc-b28c-b127ea4e6f29",
   "metadata": {},
   "outputs": [],
   "source": [
    "df_bt"
   ]
  },
  {
   "cell_type": "code",
   "execution_count": null,
   "id": "97ff012c-d8b3-4119-89b7-491320abaafe",
   "metadata": {},
   "outputs": [],
   "source": [
    "fn = os.path.join('/mnt/raid/C1_ML_Analysis', df_t['img_path'].loc[np.random.randint(len(df_t))])\n",
    "img = sitk.ReadImage(fn)\n",
    "img_np = sitk.GetArrayFromImage(img)\n",
    "img_np = RealUSTrainTransforms()(img_np)\n",
    "px.imshow(img_np[0].numpy())"
   ]
  },
  {
   "cell_type": "code",
   "execution_count": null,
   "id": "f45c27de-b7d0-4c46-8d3e-075943a7ade7",
   "metadata": {},
   "outputs": [],
   "source": []
  }
 ],
 "metadata": {
  "kernelspec": {
   "display_name": "Python 3 (ipykernel)",
   "language": "python",
   "name": "python3"
  },
  "language_info": {
   "codemirror_mode": {
    "name": "ipython",
    "version": 3
   },
   "file_extension": ".py",
   "mimetype": "text/x-python",
   "name": "python",
   "nbconvert_exporter": "python",
   "pygments_lexer": "ipython3",
   "version": "3.10.0"
  }
 },
 "nbformat": 4,
 "nbformat_minor": 5
}
