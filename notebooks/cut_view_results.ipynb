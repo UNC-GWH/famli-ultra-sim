{
 "cells": [
  {
   "cell_type": "code",
   "execution_count": 1,
   "id": "5c4a9f6d",
   "metadata": {},
   "outputs": [],
   "source": [
    "# Example plotting multiple values\n",
    "import torch\n",
    "import torch.nn as nn\n",
    "import torch.nn.functional as F\n",
    "\n",
    "import numpy as np\n",
    "import matplotlib as mpl\n",
    "import matplotlib.pyplot as plt\n",
    "import SimpleITK as sitk\n",
    "import pandas as pd\n",
    "import os\n",
    "import sys\n",
    "from torchmetrics.image.fid import FrechetInceptionDistance\n",
    "\n",
    "# sys.path.append(\"/mnt/raid/C1_ML_Analysis/source/autoencoder/src\")\n",
    "sys.path.append(\"/mnt/raid/C1_ML_Analysis/source/famli-ultra-sim/dl/\")\n",
    "sys.path.append(\"/mnt/raid/C1_ML_Analysis/source/famli-ultra-sim/dl/nets\")\n",
    "\n",
    "from nets import diffusion, spade, lotus, cut, layers, cut_G\n",
    "from loaders import ultrasound_dataset as usd\n",
    "import monai\n",
    "\n",
    "import plotly.express as px\n",
    "import plotly.graph_objects as go"
   ]
  },
  {
   "cell_type": "code",
   "execution_count": 2,
   "id": "592b949e",
   "metadata": {},
   "outputs": [
    {
     "name": "stderr",
     "output_type": "stream",
     "text": [
      "/mnt/raid/home/jprieto/envs/torch_us/lib/python3.10/site-packages/lightning/fabric/utilities/cloud_io.py:57: You are using `torch.load` with `weights_only=False` (the current default value), which uses the default pickle module implicitly. It is possible to construct malicious pickle data which will execute arbitrary code during unpickling (See https://github.com/pytorch/pytorch/blob/main/SECURITY.md#untrusted-models for more details). In a future release, the default value for `weights_only` will be flipped to `True`. This limits the functions that could be executed during unpickling. Arbitrary objects will no longer be allowed to be loaded via this mode unless they are explicitly allowlisted by the user via `torch.serialization.add_safe_globals`. We recommend you start setting `weights_only=True` for any use case where you don't have full control of the loaded file. Please open an issue on GitHub for any issues related to this experimental feature.\n"
     ]
    }
   ],
   "source": [
    "model = cut.CutG.load_from_checkpoint(\"/mnt/raid/C1_ML_Analysis/train_output/Cut/allvslast/allvsbutterfly/v0.1/epoch=24-val_loss=5.74.ckpt\").eval().cuda()\n",
    "\n"
   ]
  },
  {
   "cell_type": "code",
   "execution_count": 3,
   "id": "8c38b925",
   "metadata": {},
   "outputs": [],
   "source": [
    "img = sitk.ReadImage(\"Dataset_C1_masked_resampled_256_spc075/2019-01/FAM-025-0001-1_20190121_102442/1.2.840.114340.3.8251017232192.3.20190121.104053.81863.4.nrrd\")\n",
    "img_np = sitk.GetArrayFromImage(img)/255.0"
   ]
  },
  {
   "cell_type": "code",
   "execution_count": 4,
   "id": "c8052386",
   "metadata": {},
   "outputs": [],
   "source": [
    "# px.imshow(img_np[:,:,:,0], animation_frame=0, color_continuous_scale='gray', aspect='equal')"
   ]
  },
  {
   "cell_type": "code",
   "execution_count": 12,
   "id": "ce9c8c7c",
   "metadata": {},
   "outputs": [],
   "source": [
    "with torch.no_grad():\n",
    "    img_t = torch.tensor(img_np)[:,:,:,0].unsqueeze(1).cuda().to(torch.float32)\n",
    "    out = []\n",
    "    for chunk in torch.chunk(img_t, chunks=10):\n",
    "        out.append(model(chunk).squeeze(1))"
   ]
  },
  {
   "cell_type": "code",
   "execution_count": 13,
   "id": "b5e687ba",
   "metadata": {},
   "outputs": [],
   "source": [
    "out = sitk.GetImageFromArray((torch.cat(out, dim=0).clamp(0, 1).cpu().numpy()*255.0).astype(np.uint8))\n",
    "sitk.WriteImage(out, \"1.2.840.114340.3.8251017232192.3.20190121.104053.81863.4_cutbutterfly.nrrd\")\n"
   ]
  },
  {
   "cell_type": "code",
   "execution_count": null,
   "id": "303cf7b2",
   "metadata": {},
   "outputs": [],
   "source": []
  }
 ],
 "metadata": {
  "kernelspec": {
   "display_name": "Python 3 (ipykernel)",
   "language": "python",
   "name": "python3"
  }
 },
 "nbformat": 4,
 "nbformat_minor": 5
}
