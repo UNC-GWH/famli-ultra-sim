{
 "cells": [
  {
   "cell_type": "code",
   "execution_count": 1,
   "id": "db9d58dd-fbbd-4af4-8284-c96abcf4797f",
   "metadata": {},
   "outputs": [
    {
     "name": "stderr",
     "output_type": "stream",
     "text": [
      "/mnt/raid/home/jprieto/anaconda3/envs/torch_us/lib/python3.8/site-packages/neptune/internal/backends/hosted_client.py:51: NeptuneDeprecationWarning: The 'neptune-client' package has been deprecated and will be removed in the future. Install the 'neptune' package instead. For more, see https://docs.neptune.ai/setup/upgrading/\n",
      "  from neptune.version import version as neptune_client_version\n",
      "/mnt/raid/home/jprieto/anaconda3/envs/torch_us/lib/python3.8/site-packages/pytorch_lightning/loggers/neptune.py:39: NeptuneDeprecationWarning: You're importing the Neptune client library via the deprecated `neptune.new` module, which will be removed in a future release. Import directly from `neptune` instead.\n",
      "  from neptune import new as neptune\n"
     ]
    }
   ],
   "source": [
    "import numpy as np\n",
    "import torch\n",
    "\n",
    "import pytorch_lightning as pl\n",
    "import torch.optim as optim\n",
    "\n",
    "import torch.nn.functional as F\n",
    "from torchvision import transforms as T\n",
    "import os\n",
    "\n",
    "import sys\n",
    "\n",
    "sys.path.append('/mnt/raid/C1_ML_Analysis/source/UNSB/')\n",
    "\n",
    "from models import sb_model\n",
    "from models.sb_model import UltrasoundRenderingLinear\n",
    "\n",
    "from pytorch_lightning import Trainer"
   ]
  },
  {
   "cell_type": "code",
   "execution_count": 2,
   "id": "2f7b95ab-5184-4bac-80ce-c48296124360",
   "metadata": {},
   "outputs": [
    {
     "name": "stderr",
     "output_type": "stream",
     "text": [
      "Found keys that are not in the model state dict but in the checkpoint: ['USR.mean_diffusor_dict', 'USR.variance_diffusor_dict', 'USR.grid', 'USR.inverse_grid', 'USR.mask_fan']\n",
      "Found keys that are in the model state dict but not in the checkpoint: ['mean_diffusor_dict', 'variance_diffusor_dict', 'grid', 'inverse_grid', 'mask_fan']\n",
      "Found keys that are not in the model state dict but in the checkpoint: ['netG.model_res.0.conv_block.1.weight', 'netG.model_res.0.conv_block.1.bias', 'netG.model_res.0.conv_fin.2.weight', 'netG.model_res.0.conv_fin.2.bias', 'netG.model_res.0.adaptive.style_net.weight', 'netG.model_res.0.adaptive.style_net.bias', 'netG.model_res.0.Dense_time.weight', 'netG.model_res.0.Dense_time.bias', 'netG.model_res.0.style.weight', 'netG.model_res.0.style.bias', 'netG.model_res.1.conv_block.1.weight', 'netG.model_res.1.conv_block.1.bias', 'netG.model_res.1.conv_fin.2.weight', 'netG.model_res.1.conv_fin.2.bias', 'netG.model_res.1.adaptive.style_net.weight', 'netG.model_res.1.adaptive.style_net.bias', 'netG.model_res.1.Dense_time.weight', 'netG.model_res.1.Dense_time.bias', 'netG.model_res.1.style.weight', 'netG.model_res.1.style.bias', 'netG.model_res.2.conv_block.1.weight', 'netG.model_res.2.conv_block.1.bias', 'netG.model_res.2.conv_fin.2.weight', 'netG.model_res.2.conv_fin.2.bias', 'netG.model_res.2.adaptive.style_net.weight', 'netG.model_res.2.adaptive.style_net.bias', 'netG.model_res.2.Dense_time.weight', 'netG.model_res.2.Dense_time.bias', 'netG.model_res.2.style.weight', 'netG.model_res.2.style.bias', 'netG.model_res.3.conv_block.1.weight', 'netG.model_res.3.conv_block.1.bias', 'netG.model_res.3.conv_fin.2.weight', 'netG.model_res.3.conv_fin.2.bias', 'netG.model_res.3.adaptive.style_net.weight', 'netG.model_res.3.adaptive.style_net.bias', 'netG.model_res.3.Dense_time.weight', 'netG.model_res.3.Dense_time.bias', 'netG.model_res.3.style.weight', 'netG.model_res.3.style.bias', 'netG.model_res.4.conv_block.1.weight', 'netG.model_res.4.conv_block.1.bias', 'netG.model_res.4.conv_fin.2.weight', 'netG.model_res.4.conv_fin.2.bias', 'netG.model_res.4.adaptive.style_net.weight', 'netG.model_res.4.adaptive.style_net.bias', 'netG.model_res.4.Dense_time.weight', 'netG.model_res.4.Dense_time.bias', 'netG.model_res.4.style.weight', 'netG.model_res.4.style.bias', 'netG.model_res.5.conv_block.1.weight', 'netG.model_res.5.conv_block.1.bias', 'netG.model_res.5.conv_fin.2.weight', 'netG.model_res.5.conv_fin.2.bias', 'netG.model_res.5.adaptive.style_net.weight', 'netG.model_res.5.adaptive.style_net.bias', 'netG.model_res.5.Dense_time.weight', 'netG.model_res.5.Dense_time.bias', 'netG.model_res.5.style.weight', 'netG.model_res.5.style.bias', 'netG.model_res.6.conv_block.1.weight', 'netG.model_res.6.conv_block.1.bias', 'netG.model_res.6.conv_fin.2.weight', 'netG.model_res.6.conv_fin.2.bias', 'netG.model_res.6.adaptive.style_net.weight', 'netG.model_res.6.adaptive.style_net.bias', 'netG.model_res.6.Dense_time.weight', 'netG.model_res.6.Dense_time.bias', 'netG.model_res.6.style.weight', 'netG.model_res.6.style.bias', 'netG.model_res.7.conv_block.1.weight', 'netG.model_res.7.conv_block.1.bias', 'netG.model_res.7.conv_fin.2.weight', 'netG.model_res.7.conv_fin.2.bias', 'netG.model_res.7.adaptive.style_net.weight', 'netG.model_res.7.adaptive.style_net.bias', 'netG.model_res.7.Dense_time.weight', 'netG.model_res.7.Dense_time.bias', 'netG.model_res.7.style.weight', 'netG.model_res.7.style.bias', 'netG.model_res.8.conv_block.1.weight', 'netG.model_res.8.conv_block.1.bias', 'netG.model_res.8.conv_fin.2.weight', 'netG.model_res.8.conv_fin.2.bias', 'netG.model_res.8.adaptive.style_net.weight', 'netG.model_res.8.adaptive.style_net.bias', 'netG.model_res.8.Dense_time.weight', 'netG.model_res.8.Dense_time.bias', 'netG.model_res.8.style.weight', 'netG.model_res.8.style.bias', 'netG.model.1.weight', 'netG.model.1.bias', 'netG.model.4.weight', 'netG.model.4.bias', 'netG.model.7.filt', 'netG.model.8.weight', 'netG.model.8.bias', 'netG.model.11.filt', 'netG.model_upsample.0.filt', 'netG.model_upsample.1.weight', 'netG.model_upsample.1.bias', 'netG.model_upsample.4.filt', 'netG.model_upsample.5.weight', 'netG.model_upsample.5.bias', 'netG.model_upsample.9.weight', 'netG.model_upsample.9.bias', 'netG.z_transform.1.weight', 'netG.z_transform.1.bias', 'netG.z_transform.3.weight', 'netG.z_transform.3.bias', 'netG.z_transform.5.weight', 'netG.z_transform.5.bias', 'netG.z_transform.7.weight', 'netG.z_transform.7.bias', 'netG.time_embed.0.weight', 'netG.time_embed.0.bias', 'netG.time_embed.2.weight', 'netG.time_embed.2.bias', 'netF.mlp_0.0.weight', 'netF.mlp_0.0.bias', 'netF.mlp_0.2.weight', 'netF.mlp_0.2.bias', 'netF.mlp_1.0.weight', 'netF.mlp_1.0.bias', 'netF.mlp_1.2.weight', 'netF.mlp_1.2.bias', 'netF.mlp_2.0.weight', 'netF.mlp_2.0.bias', 'netF.mlp_2.2.weight', 'netF.mlp_2.2.bias', 'netF.mlp_3.0.weight', 'netF.mlp_3.0.bias', 'netF.mlp_3.2.weight', 'netF.mlp_3.2.bias', 'netF.mlp_4.0.weight', 'netF.mlp_4.0.bias', 'netF.mlp_4.2.weight', 'netF.mlp_4.2.bias', 'netD.model_main.0.conv1.weight', 'netD.model_main.0.conv1.bias', 'netD.model_main.0.down.filt', 'netD.model_main.0.dense.weight', 'netD.model_main.0.dense.bias', 'netD.model_main.1.conv1.weight', 'netD.model_main.1.conv1.bias', 'netD.model_main.1.down.filt', 'netD.model_main.1.dense.weight', 'netD.model_main.1.dense.bias', 'netD.model_main.2.conv1.weight', 'netD.model_main.2.conv1.bias', 'netD.model_main.2.down.filt', 'netD.model_main.2.dense.weight', 'netD.model_main.2.dense.bias', 'netD.model_main.3.conv1.weight', 'netD.model_main.3.conv1.bias', 'netD.model_main.3.down.filt', 'netD.model_main.3.dense.weight', 'netD.model_main.3.dense.bias', 'netD.final_conv.weight', 'netD.final_conv.bias', 'netD.t_embed.main.0.weight', 'netD.t_embed.main.0.bias', 'netD.t_embed.main.2.weight', 'netD.t_embed.main.2.bias', 'netE.model_main.0.conv1.weight', 'netE.model_main.0.conv1.bias', 'netE.model_main.0.down.filt', 'netE.model_main.0.dense.weight', 'netE.model_main.0.dense.bias', 'netE.model_main.1.conv1.weight', 'netE.model_main.1.conv1.bias', 'netE.model_main.1.down.filt', 'netE.model_main.1.dense.weight', 'netE.model_main.1.dense.bias', 'netE.model_main.2.conv1.weight', 'netE.model_main.2.conv1.bias', 'netE.model_main.2.down.filt', 'netE.model_main.2.dense.weight', 'netE.model_main.2.dense.bias', 'netE.model_main.3.conv1.weight', 'netE.model_main.3.conv1.bias', 'netE.model_main.3.down.filt', 'netE.model_main.3.dense.weight', 'netE.model_main.3.dense.bias', 'netE.final_conv.weight', 'netE.final_conv.bias', 'netE.t_embed.main.0.weight', 'netE.t_embed.main.0.bias', 'netE.t_embed.main.2.weight', 'netE.t_embed.main.2.bias', 'criterionGAN.real_label', 'criterionGAN.fake_label', 'USR.mean_diffusor_dict', 'USR.variance_diffusor_dict', 'USR.grid', 'USR.inverse_grid', 'USR.mask_fan']\n"
     ]
    }
   ],
   "source": [
    "model_fn = '/mnt/raid/C1_ML_Analysis/train_output/UNSB/us_render_linear_real/v0.3/epoch=8-val_loss=2.51.ckpt'\n",
    "model = sb_model.SBModelPL.load_from_checkpoint(model_fn, strict=False)\n",
    "model.USR = UltrasoundRenderingLinear.load_from_checkpoint(model_fn, strict=False)"
   ]
  },
  {
   "cell_type": "code",
   "execution_count": 3,
   "id": "5718dcc7-f723-4564-a398-b7795b492dcd",
   "metadata": {},
   "outputs": [
    {
     "name": "stderr",
     "output_type": "stream",
     "text": [
      "GPU available: True (cuda), used: False\n",
      "TPU available: False, using: 0 TPU cores\n",
      "IPU available: False, using: 0 IPUs\n",
      "HPU available: False, using: 0 HPUs\n",
      "GPU available but not used. Set `accelerator` and `devices` using `Trainer(accelerator='gpu', devices=1)`.\n"
     ]
    }
   ],
   "source": [
    "trainer = Trainer()"
   ]
  },
  {
   "cell_type": "code",
   "execution_count": 4,
   "id": "66ea2479-2fee-4820-8e29-919097ec5470",
   "metadata": {},
   "outputs": [
    {
     "ename": "AttributeError",
     "evalue": "Saving a checkpoint is only possible if a model is attached to the Trainer. Did you call `Trainer.save_checkpoint()` before calling `Trainer.{fit,validate,test,predict}`?",
     "output_type": "error",
     "traceback": [
      "\u001b[0;31m---------------------------------------------------------------------------\u001b[0m",
      "\u001b[0;31mAttributeError\u001b[0m                            Traceback (most recent call last)",
      "Cell \u001b[0;32mIn [4], line 1\u001b[0m\n\u001b[0;32m----> 1\u001b[0m \u001b[43mtrainer\u001b[49m\u001b[38;5;241;43m.\u001b[39;49m\u001b[43msave_checkpoint\u001b[49m\u001b[43m(\u001b[49m\u001b[38;5;124;43m\"\u001b[39;49m\u001b[38;5;124;43m/mnt/raid/C1_ML_Analysis/example.ckpt\u001b[39;49m\u001b[38;5;124;43m\"\u001b[39;49m\u001b[43m)\u001b[49m\n",
      "File \u001b[0;32m/mnt/raid/home/jprieto/anaconda3/envs/torch_us/lib/python3.8/site-packages/pytorch_lightning/trainer/trainer.py:1937\u001b[0m, in \u001b[0;36mTrainer.save_checkpoint\u001b[0;34m(self, filepath, weights_only, storage_options)\u001b[0m\n\u001b[1;32m   1927\u001b[0m \u001b[38;5;124mr\u001b[39m\u001b[38;5;124;03m\"\"\"\u001b[39;00m\n\u001b[1;32m   1928\u001b[0m \u001b[38;5;124;03mRuns routine to create a checkpoint.\u001b[39;00m\n\u001b[1;32m   1929\u001b[0m \n\u001b[0;32m   (...)\u001b[0m\n\u001b[1;32m   1934\u001b[0m \n\u001b[1;32m   1935\u001b[0m \u001b[38;5;124;03m\"\"\"\u001b[39;00m\n\u001b[1;32m   1936\u001b[0m \u001b[38;5;28;01mif\u001b[39;00m \u001b[38;5;28mself\u001b[39m\u001b[38;5;241m.\u001b[39mmodel \u001b[38;5;129;01mis\u001b[39;00m \u001b[38;5;28;01mNone\u001b[39;00m:\n\u001b[0;32m-> 1937\u001b[0m     \u001b[38;5;28;01mraise\u001b[39;00m \u001b[38;5;167;01mAttributeError\u001b[39;00m(\n\u001b[1;32m   1938\u001b[0m         \u001b[38;5;124m\"\u001b[39m\u001b[38;5;124mSaving a checkpoint is only possible if a model is attached to the Trainer. Did you call\u001b[39m\u001b[38;5;124m\"\u001b[39m\n\u001b[1;32m   1939\u001b[0m         \u001b[38;5;124m\"\u001b[39m\u001b[38;5;124m `Trainer.save_checkpoint()` before calling `Trainer.\u001b[39m\u001b[38;5;124m{\u001b[39m\u001b[38;5;124mfit,validate,test,predict}`?\u001b[39m\u001b[38;5;124m\"\u001b[39m\n\u001b[1;32m   1940\u001b[0m     )\n\u001b[1;32m   1941\u001b[0m \u001b[38;5;28mself\u001b[39m\u001b[38;5;241m.\u001b[39m_checkpoint_connector\u001b[38;5;241m.\u001b[39msave_checkpoint(filepath, weights_only\u001b[38;5;241m=\u001b[39mweights_only, storage_options\u001b[38;5;241m=\u001b[39mstorage_options)\n",
      "\u001b[0;31mAttributeError\u001b[0m: Saving a checkpoint is only possible if a model is attached to the Trainer. Did you call `Trainer.save_checkpoint()` before calling `Trainer.{fit,validate,test,predict}`?"
     ]
    }
   ],
   "source": [
    "trainer.save_checkpoint(\"/mnt/raid/C1_ML_Analysis/example.ckpt\")"
   ]
  },
  {
   "cell_type": "code",
   "execution_count": null,
   "id": "13c8ebcf-7ab5-47e7-b7d5-21dbd3880234",
   "metadata": {},
   "outputs": [],
   "source": []
  }
 ],
 "metadata": {
  "kernelspec": {
   "display_name": "Python 3 (ipykernel)",
   "language": "python",
   "name": "python3"
  },
  "language_info": {
   "codemirror_mode": {
    "name": "ipython",
    "version": 3
   },
   "file_extension": ".py",
   "mimetype": "text/x-python",
   "name": "python",
   "nbconvert_exporter": "python",
   "pygments_lexer": "ipython3",
   "version": "3.10.0"
  }
 },
 "nbformat": 4,
 "nbformat_minor": 5
}
