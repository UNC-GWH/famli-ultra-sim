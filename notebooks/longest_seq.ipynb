{
 "cells": [
  {
   "cell_type": "code",
   "execution_count": 1,
   "id": "64a7ac47-2ed3-434e-ad0e-bac0eb1a3380",
   "metadata": {},
   "outputs": [],
   "source": [
    "import torch"
   ]
  },
  {
   "cell_type": "code",
   "execution_count": 13,
   "id": "b5a1c357-8250-4807-9c25-3b4b7a6d3ee1",
   "metadata": {},
   "outputs": [
    {
     "name": "stdout",
     "output_type": "stream",
     "text": [
      "tensor([2., 2., 2., 2., 4., 0., 0.])\n"
     ]
    }
   ],
   "source": [
    "\n",
    "def longest_sequence_of_ones(matrix):\n",
    "    \"\"\"\n",
    "    Counts the longest sequence of contiguous ones in each column of a binary matrix\n",
    "    using PyTorch operations efficiently.\n",
    "\n",
    "    Parameters:\n",
    "    - matrix: A binary matrix of shape (n_rows, n_cols) containing only zeros and ones.\n",
    "\n",
    "    Returns:\n",
    "    - A tensor of shape (n_cols,) containing the length of the longest sequence of ones in each column.\n",
    "    \"\"\"\n",
    "    # Convert input to a PyTorch tensor if not already one\n",
    "    # Prepare tensors to keep track of current sequence lengths and max lengths\n",
    "    current_lengths = torch.zeros(matrix.shape[1], dtype=torch.float32)\n",
    "    max_lengths = torch.zeros(matrix.shape[1], dtype=torch.float32)\n",
    "    \n",
    "    # Iterate through each row to update current and max sequence lengths\n",
    "    for row in matrix:\n",
    "        # Reset current sequence length to 0 where the element is 0, else increment\n",
    "        current_lengths = torch.where(row == 1, current_lengths + 1, torch.zeros_like(current_lengths))\n",
    "        # Update max lengths\n",
    "        max_lengths = torch.max(max_lengths, current_lengths)\n",
    "    \n",
    "    return max_lengths\n",
    "\n",
    "# Example\n",
    "matrix = [[1, 0, 1, 1, 1, 0, 0],\n",
    "          [1, 1, 1, 0, 1, 0, 0],\n",
    "          [0, 1, 0, 0, 1, 0, 0],\n",
    "          [1, 0, 0, 1, 1, 0, 0],\n",
    "          [1, 1, 1, 1, 0, 0, 0],\n",
    "          [0, 0, 0, 0, 1, 0, 0],\n",
    "          [1, 1, 1, 1, 1, 0, 0]]\n",
    "matrix_tensor = torch.tensor(matrix, dtype=torch.float32)\n",
    "longest_seq_no_loop = longest_sequence_of_ones(matrix_tensor)\n",
    "print(longest_seq_no_loop)\n"
   ]
  },
  {
   "cell_type": "code",
   "execution_count": null,
   "id": "897c1e89-b73d-456c-8022-8360ec58364e",
   "metadata": {},
   "outputs": [],
   "source": []
  }
 ],
 "metadata": {
  "kernelspec": {
   "display_name": "Python 3 (ipykernel)",
   "language": "python",
   "name": "python3"
  },
  "language_info": {
   "codemirror_mode": {
    "name": "ipython",
    "version": 3
   },
   "file_extension": ".py",
   "mimetype": "text/x-python",
   "name": "python",
   "nbconvert_exporter": "python",
   "pygments_lexer": "ipython3",
   "version": "3.10.0"
  }
 },
 "nbformat": 4,
 "nbformat_minor": 5
}
