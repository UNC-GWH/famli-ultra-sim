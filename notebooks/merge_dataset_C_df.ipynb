{
 "cells": [
  {
   "cell_type": "code",
   "execution_count": 1,
   "id": "ad021602-f334-43b9-8f83-6113ce49cdf9",
   "metadata": {},
   "outputs": [],
   "source": [
    "import pandas as pd\n",
    "import os"
   ]
  },
  {
   "cell_type": "code",
   "execution_count": 2,
   "id": "ff71954f-2c62-49ae-a001-530edc01c215",
   "metadata": {},
   "outputs": [],
   "source": [
    "# df_c = pd.read_csv(\"/mnt/famli_netapp_shared/C1_ML_Analysis/famli_ml_lists/AnalysisLists/Juan/Dataset_C_20230912_exists_masked_resampled_256_075.csv\")"
   ]
  },
  {
   "cell_type": "code",
   "execution_count": 3,
   "id": "9247bfdf-8137-41a6-92e8-952545993891",
   "metadata": {},
   "outputs": [],
   "source": [
    "df = pd.read_parquet(\"/mnt/raid/C1_ML_Analysis/CSV_files/extract_frames_Dataset_C_masked_resampled_256_spc075_wscores_meta.parquet\")"
   ]
  },
  {
   "cell_type": "code",
   "execution_count": 4,
   "id": "c84cb6d0-b30f-4e04-8aed-73491136dae9",
   "metadata": {},
   "outputs": [
    {
     "data": {
      "text/plain": [
       "Index(['img_path', 'study_id_x', 'score', 'pred', 'id', 'file_path', 'type',\n",
       "       'tag', 'n_rows', 'n_columns', 'n_frames', 'model', 'manufacturer',\n",
       "       'spacing_x', 'spacing_y', 'instance_number', 'time_stamp', 'file_name',\n",
       "       'PID', 'PID_date', 'PID_date_time', 'famli_edd_source',\n",
       "       'famli_edd_source_detail', 'pid', 'study_id_y', 'studydate', 'site',\n",
       "       'dvp_crf', 'novice', 'fetal_presentation', 'twin', 'is_anchor',\n",
       "       'ineligible', 'ga_boe', 'famli_edd', 'ga_expert', 'ga_absdiff',\n",
       "       'unc_edd_uncertain', 'ga_boe_w', 'is_ga_anchor', 'ga_presentation_w',\n",
       "       'ga_presentation', 'placenta_str', 'previa_str',\n",
       "       'fetal_presentation_str', 'efw_Hadlock_IV'],\n",
       "      dtype='object')"
      ]
     },
     "execution_count": 4,
     "metadata": {},
     "output_type": "execute_result"
    }
   ],
   "source": [
    "df.columns"
   ]
  },
  {
   "cell_type": "code",
   "execution_count": 5,
   "id": "13caa321-fe56-455a-bc65-0e47cf44ab21",
   "metadata": {},
   "outputs": [
    {
     "data": {
      "text/plain": [
       "array(['Unknown', 'NL', 'NC1', 'M', 'CRL', 'NC2', 'C1', 'RTA', 'NM',\n",
       "       'NC3', 'NR', 'R1', 'AC', 'TCD', 'RTB', 'R15', 'C2', 'L1', 'R0',\n",
       "       'BPD', 'FL', 'C3', 'RTC', 'L15', 'L0', 'L45', 'R45', 'C4', 'HC',\n",
       "       'NCI', 'FUND PLAC', 'ML', 'POST PLAC', 'HEARTRATE', 'ASSBS', 'MR',\n",
       "       'CEPHALIC', '3D1', 'ANT PLAC', 'EQ', 'AFI', 'L2', 'R2', 'BREECH'],\n",
       "      dtype=object)"
      ]
     },
     "execution_count": 5,
     "metadata": {},
     "output_type": "execute_result"
    }
   ],
   "source": [
    "df['tag'].unique()"
   ]
  },
  {
   "cell_type": "code",
   "execution_count": 6,
   "id": "8cff9fd7-1748-4c44-bee4-975fceee9fba",
   "metadata": {},
   "outputs": [],
   "source": [
    "# df[df['tag'] == 'HEARTRATE']['img_path'].sample(frac=1).reset_index(drop=True).iloc[0]"
   ]
  },
  {
   "cell_type": "code",
   "execution_count": 7,
   "id": "2fff223c-b8d6-4d82-877f-0d22e45f1bd2",
   "metadata": {},
   "outputs": [],
   "source": [
    "# df_c['id'] = df_c['file_path'].apply(lambda fn: os.path.splitext(os.path.basename(fn))[0])"
   ]
  },
  {
   "cell_type": "code",
   "execution_count": 8,
   "id": "419a7ea2-7d70-416e-b6f1-77bc6e38a37f",
   "metadata": {},
   "outputs": [],
   "source": [
    "# df.head()"
   ]
  },
  {
   "cell_type": "code",
   "execution_count": 9,
   "id": "6f56c626-5957-42eb-9524-f6da44f4f86e",
   "metadata": {},
   "outputs": [],
   "source": [
    "# df['id'] = df['img_path'].apply(lambda fn: os.path.basename(os.path.dirname(fn)))"
   ]
  },
  {
   "cell_type": "code",
   "execution_count": 10,
   "id": "5dd8a56c-3809-4e23-a528-b4586b6ddab3",
   "metadata": {},
   "outputs": [],
   "source": [
    "# df_m = pd.merge(df, df_c, on=\"id\")"
   ]
  },
  {
   "cell_type": "code",
   "execution_count": 11,
   "id": "81e3f349-2214-4bc6-97f0-ef30f66d3475",
   "metadata": {},
   "outputs": [],
   "source": [
    "# df_m.to_parquet('/mnt/raid/C1_ML_Analysis/CSV_files/extract_frames_Dataset_C_masked_resampled_256_spc075_wscores_meta.parquet', index=False)"
   ]
  },
  {
   "cell_type": "code",
   "execution_count": 12,
   "id": "500003f1-fa5b-4c24-8b97-760a87b145be",
   "metadata": {},
   "outputs": [],
   "source": [
    "# df_m['tag'].unique()"
   ]
  },
  {
   "cell_type": "code",
   "execution_count": 13,
   "id": "f42a36dc-580b-45e1-a5ec-8881f8caf471",
   "metadata": {},
   "outputs": [],
   "source": [
    "# df_m[df_m[\"tag\"].isin(['BPD', 'HC'])].to_parquet('/mnt/raid/C1_ML_Analysis/CSV_files/extract_frames_Dataset_C_masked_resampled_256_spc075_wscores_meta_BPD.parquet', index=False)"
   ]
  },
  {
   "cell_type": "code",
   "execution_count": 14,
   "id": "6df71514-202e-4dfc-84db-c591391ebf8c",
   "metadata": {},
   "outputs": [],
   "source": [
    "# df_m[df_m[\"tag\"].isin(['AC'])].to_parquet('/mnt/raid/C1_ML_Analysis/CSV_files/extract_frames_Dataset_C_masked_resampled_256_spc075_wscores_meta_AC.parquet', index=False)"
   ]
  },
  {
   "cell_type": "code",
   "execution_count": 15,
   "id": "1d739b3d-8f79-4741-b2b0-0da432c9d5cb",
   "metadata": {},
   "outputs": [],
   "source": [
    "# df_m[df_m[\"tag\"].isin(['FL'])].to_parquet('/mnt/raid/C1_ML_Analysis/CSV_files/extract_frames_Dataset_C_masked_resampled_256_spc075_wscores_meta_FL.parquet', index=False)"
   ]
  },
  {
   "cell_type": "code",
   "execution_count": 16,
   "id": "52ef0b98-e675-4874-a4d5-dd8c0db6c9ea",
   "metadata": {},
   "outputs": [],
   "source": [
    "df_f = df[df[\"tag\"].isin(['M', 'L0', 'L1', 'R0', 'R1', 'C1', 'C2', 'C3', 'C4', 'AC', 'FL'])]\n",
    "\n",
    "\n",
    "# df_f.to_parquet('/mnt/raid/C1_ML_Analysis/CSV_files/extract_frames_Dataset_C_masked_resampled_256_spc075_wscores_meta_wACFL.parquet', index=False)"
   ]
  },
  {
   "cell_type": "code",
   "execution_count": 17,
   "id": "5a782573-b7f8-479a-b997-0f07a129e619",
   "metadata": {},
   "outputs": [
    {
     "data": {
      "text/plain": [
       "1612262"
      ]
     },
     "execution_count": 17,
     "metadata": {},
     "output_type": "execute_result"
    }
   ],
   "source": [
    "len(df_f.query('tag == \"AC\"'))"
   ]
  },
  {
   "cell_type": "code",
   "execution_count": 18,
   "id": "c8e7a26b-9547-4c0c-9765-371de999654f",
   "metadata": {},
   "outputs": [
    {
     "data": {
      "text/plain": [
       "369742"
      ]
     },
     "execution_count": 18,
     "metadata": {},
     "output_type": "execute_result"
    }
   ],
   "source": [
    "len(df_f.query('tag == \"FL\" and 1e-4 < score and 90 < ga_boe'))"
   ]
  },
  {
   "cell_type": "code",
   "execution_count": 19,
   "id": "09eebb08-beab-43d0-8fab-2560bbc97567",
   "metadata": {},
   "outputs": [],
   "source": [
    "# df_f.query('1e-4 < score and 90 < ga_boe').to_parquet('/mnt/raid/C1_ML_Analysis/CSV_files/extract_frames_Dataset_C_masked_resampled_256_spc075_wscores_meta_wACFL_1e-4-3mo-9mo.parquet', index=False)\n",
    "# dff = pd.concat([df[df[\"tag\"].isin(['AC', 'FL'])].query('220 < ga_boe and 1e-6 < score'), df[df[\"tag\"].isin(['BPD'])].query('220 < ga_boe and 1e-1 < score')])\n",
    "# dff.to_parquet('/mnt/raid/C1_ML_Analysis/CSV_files/extract_frames_Dataset_C_masked_resampled_256_spc075_wscores_meta_BPDACFL-7mo-9mo.parquet', index=False)"
   ]
  },
  {
   "cell_type": "code",
   "execution_count": 20,
   "id": "4f86dd27-5473-458d-8bb6-5657c65933ee",
   "metadata": {},
   "outputs": [],
   "source": [
    "# df_noflyto.query('1e-4 < score').to_parquet('/mnt/raid/C1_ML_Analysis/CSV_files/extract_frames_Dataset_C_masked_resampled_256_spc075_wscores_meta_noflyto_1e-4.parquet', index=False)"
   ]
  },
  {
   "cell_type": "code",
   "execution_count": 21,
   "id": "b3dd7e9e-4456-4ea5-b41c-77240b285c5b",
   "metadata": {},
   "outputs": [],
   "source": [
    "# fn = \"/mnt/raid/C1_ML_Analysis/CSV_files/extract_frames_Dataset_C_masked_resampled_256_spc075_wscores_meta_noflyto_1e-4.parquet\"\n",
    "# df = pd.read_parquet(fn)\n",
    "# df.columns\n",
    "# df_8mo = df.query('215 < ga_boe')\n",
    "\n",
    "# df_8mo.to_parquet(fn.replace('.parquet', '-7mo-9mo.parquet'))"
   ]
  },
  {
   "cell_type": "code",
   "execution_count": 22,
   "id": "cbb6e253-a50b-43c7-980a-c6adf5ed86c2",
   "metadata": {},
   "outputs": [
    {
     "ename": "NameError",
     "evalue": "name 'dff' is not defined",
     "output_type": "error",
     "traceback": [
      "\u001b[0;31m---------------------------------------------------------------------------\u001b[0m",
      "\u001b[0;31mNameError\u001b[0m                                 Traceback (most recent call last)",
      "Cell \u001b[0;32mIn [22], line 2\u001b[0m\n\u001b[1;32m      1\u001b[0m \u001b[38;5;66;03m# len(pd.read_parquet('/mnt/raid/C1_ML_Analysis/CSV_files/extract_frames_Dataset_C_masked_resampled_256_spc075_wscores_meta_noflyto_1e-4-7mo-9mo_train_train.parquet'))\u001b[39;00m\n\u001b[0;32m----> 2\u001b[0m \u001b[38;5;28mlen\u001b[39m(\u001b[43mdff\u001b[49m)\n",
      "\u001b[0;31mNameError\u001b[0m: name 'dff' is not defined"
     ]
    }
   ],
   "source": [
    "# len(pd.read_parquet('/mnt/raid/C1_ML_Analysis/CSV_files/extract_frames_Dataset_C_masked_resampled_256_spc075_wscores_meta_noflyto_1e-4-7mo-9mo_train_train.parquet'))\n",
    "# len(dff)"
   ]
  },
  {
   "cell_type": "code",
   "execution_count": 26,
   "id": "273f0eb1-b388-4de6-9e6e-c5ac4a6618be",
   "metadata": {},
   "outputs": [],
   "source": [
    "# dfff = pd.concat([df[df[\"tag\"].isin(['AC', 'FL'])].query('220 < ga_boe and 1e-6 < score'), df[df[\"tag\"].isin(['BPD'])].query('220 < ga_boe and 1e-1 < score').sample(frac=0.5)])\n",
    "# dfff.to_parquet('/mnt/raid/C1_ML_Analysis/CSV_files/extract_frames_Dataset_C_masked_resampled_256_spc075_wscores_meta_BPD05_ACFL-7mo-9mo.parquet', index=False)"
   ]
  },
  {
   "cell_type": "code",
   "execution_count": 57,
   "id": "3961ab66-3311-4114-9006-e7c3087359e6",
   "metadata": {},
   "outputs": [],
   "source": [
    "df_acfl = df[df[\"tag\"].isin(['AC', 'FL'])].query('220 < ga_boe and 1e-6 < score').sample(n=60000)\n",
    "df_bpd = df[df[\"tag\"].isin(['BPD'])].query('220 < ga_boe and 1e-1 < score').sample(n=15000)\n",
    "df_bs = df[df[\"tag\"].isin(['L1', 'M', 'R0', 'C1'])].query('220 < ga_boe').sample(n=75000)\n",
    "dffff = pd.concat([df_acfl, df_bpd, df_bs])\n",
    "dffff.to_parquet('/mnt/raid/C1_ML_Analysis/CSV_files/extract_frames_Dataset_C_masked_resampled_256_spc075_wscores_meta_BPDACFLL1MR0C1-7mo-9mo.parquet', index=False)"
   ]
  },
  {
   "cell_type": "code",
   "execution_count": null,
   "id": "6ad4603e-0981-4278-8409-698dcd4e8be7",
   "metadata": {},
   "outputs": [],
   "source": []
  }
 ],
 "metadata": {
  "kernelspec": {
   "display_name": "Python 3 (ipykernel)",
   "language": "python",
   "name": "python3"
  },
  "language_info": {
   "codemirror_mode": {
    "name": "ipython",
    "version": 3
   },
   "file_extension": ".py",
   "mimetype": "text/x-python",
   "name": "python",
   "nbconvert_exporter": "python",
   "pygments_lexer": "ipython3",
   "version": "3.10.0"
  }
 },
 "nbformat": 4,
 "nbformat_minor": 5
}
