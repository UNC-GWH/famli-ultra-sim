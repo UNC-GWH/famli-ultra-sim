{
 "cells": [
  {
   "cell_type": "code",
   "execution_count": null,
   "metadata": {},
   "outputs": [],
   "source": [
    "import os\n"
   ]
  },
  {
   "cell_type": "code",
   "execution_count": null,
   "metadata": {},
   "outputs": [],
   "source": [
    "studies = [\"FAM-025-0447-5\",\n",
    "\"FAM-025-0499-5\",\n",
    "\"FAM-025-0615-3\",\n",
    "\"FAM-025-0626-2\",\n",
    "\"FAM-025-0664-4\",\n",
    "\"FAM-025-0749-4\",\n",
    "\"FAM-025-0754-2\",\n",
    "\"FAM-025-0795-1\",\n",
    "\"FAM-025-0869-1\",\n",
    "\"FAM-025-0941-1\",]\n"
   ]
  },
  {
   "cell_type": "code",
   "execution_count": null,
   "metadata": {},
   "outputs": [],
   "source": [
    "mount_dir_studies = '/mnt/famli_netapp_shared/C1_ML_Analysis/src/blender/simulated_data_export/studies/correct/'\n",
    "\n",
    "for study in studies:    \n",
    "    os.system(f\"python /mnt/famli_netapp_shared/C1_ML_Analysis/src/famli-ultra-sim/create_stencil.py --dir {mount_dir_studies}{study}\")"
   ]
  },
  {
   "cell_type": "code",
   "execution_count": null,
   "metadata": {},
   "outputs": [],
   "source": [
    "out_dir = \"/mnt/famli_netapp_shared/C1_ML_Analysis/src/blender/simulated_data_export/studies_merged\"\n",
    "for study in studies:\n",
    "\n",
    "    out_diffusor_fn = f\"{out_dir}/{study}_diffusor.nrrd\"\n",
    "    if not os.path.exists(out_diffusor_fn):\n",
    "        os.system(f\"python /mnt/famli_netapp_shared/C1_ML_Analysis/src/famli-ultra-sim/merge_images.py --csv {out_dir}/merge_mesh.csv --min_size 512 --pad 0.01 --a_min 0 --a_max 255 --mount_dir {mount_dir_studies}/{study} --out_dir {out_dir}/{study}\")\n",
    "\n"
   ]
  }
 ],
 "metadata": {
  "kernelspec": {
   "display_name": "Python 3 (ipykernel)",
   "language": "python",
   "name": "python3"
  },
  "language_info": {
   "codemirror_mode": {
    "name": "ipython",
    "version": 3
   },
   "file_extension": ".py",
   "mimetype": "text/x-python",
   "name": "python",
   "nbconvert_exporter": "python",
   "pygments_lexer": "ipython3",
   "version": "3.10.0"
  }
 },
 "nbformat": 4,
 "nbformat_minor": 2
}
