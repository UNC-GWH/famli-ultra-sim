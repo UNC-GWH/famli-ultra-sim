{
 "cells": [
  {
   "cell_type": "code",
   "execution_count": 2,
   "id": "a3d2b079",
   "metadata": {},
   "outputs": [],
   "source": [
    "import pandas as pd"
   ]
  },
  {
   "cell_type": "code",
   "execution_count": 3,
   "id": "9c9aab6f",
   "metadata": {},
   "outputs": [],
   "source": [
    "df = pd.read_csv('/mnt/raid/C1_ML_Analysis/simulated_data_export/animation_export/shapes_intensity_map_nrrd.csv')"
   ]
  },
  {
   "cell_type": "code",
   "execution_count": null,
   "id": "898e64ad",
   "metadata": {},
   "outputs": [],
   "source": [
    "# group = df['img'].apply(lambda x: x.split('/')[0])\n",
    "# df['group'] = group\n",
    "# df['ignore_size_info']  = 0\n",
    "# df.to_csv('/mnt/raid/C1_ML_Analysis/simulated_data_export/animation_export/shapes_intensity_map_nrrd.csv', index=False)"
   ]
  },
  {
   "cell_type": "code",
   "execution_count": null,
   "id": "f1ded3ab",
   "metadata": {},
   "outputs": [],
   "source": [
    "# df['label'] = df.index + 1\n",
    "# df.to_csv('/mnt/raid/C1_ML_Analysis/simulated_data_export/animation_export/shapes_intensity_map_nrrd.csv', index=False)"
   ]
  },
  {
   "cell_type": "code",
   "execution_count": null,
   "id": "eb7fe8ae",
   "metadata": {},
   "outputs": [],
   "source": [
    "# df['stddev'] = df['stddev']*100\n",
    "# df.to_csv('/mnt/raid/C1_ML_Analysis/simulated_data_export/animation_export/shapes_intensity_map_nrrd.csv', index=False)"
   ]
  },
  {
   "cell_type": "code",
   "execution_count": null,
   "id": "cfd3fbbe",
   "metadata": {},
   "outputs": [],
   "source": []
  }
 ],
 "metadata": {
  "kernelspec": {
   "display_name": "Python 3 (ipykernel)",
   "language": "python",
   "name": "python3"
  },
  "language_info": {
   "codemirror_mode": {
    "name": "ipython",
    "version": 3
   },
   "file_extension": ".py",
   "mimetype": "text/x-python",
   "name": "python",
   "nbconvert_exporter": "python",
   "pygments_lexer": "ipython3",
   "version": "3.10.14"
  }
 },
 "nbformat": 4,
 "nbformat_minor": 5
}
