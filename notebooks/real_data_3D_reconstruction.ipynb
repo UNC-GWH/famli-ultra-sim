{
 "cells": [
  {
   "cell_type": "code",
   "execution_count": 1,
   "id": "113e45f5-bc1e-4650-b328-2e443fbb883e",
   "metadata": {},
   "outputs": [],
   "source": [
    "import os\n",
    "import sys\n",
    "\n",
    "from torch.utils.data import Dataset, DataLoader\n",
    "import pandas as pd\n",
    "import numpy as np\n",
    "import SimpleITK as sitk\n",
    "import nrrd\n",
    "import vtk\n",
    "\n",
    "import torch\n",
    "from torch import nn\n",
    "from torch.nn import functional as F\n",
    "from torchvision import transforms\n",
    "\n",
    "import pytorch_lightning as pl\n",
    "import pickle\n",
    "import monai \n",
    "import glob \n",
    "import plotly.graph_objects as go\n",
    "import plotly.express as px\n",
    "from plotly.subplots import make_subplots\n",
    "import matplotlib.pyplot as plt\n",
    "from mpl_toolkits.mplot3d import Axes3D\n",
    "\n",
    "sys.path.append('/mnt/famli_netapp_shared/C1_ML_Analysis/src/famli-ultra-sim/')\n",
    "sys.path.append('/mnt/famli_netapp_shared/C1_ML_Analysis/src/famli-ultra-sim/dl')\n",
    "import dl.loaders.ultrasound_dataset as ultrasound_dataset\n",
    "import dl.transforms.ultrasound_transforms as ultrasound_transforms\n",
    "import dl.loaders.mr_us_dataset as mr_us_dataset\n",
    "import dl.nets.us_simulation_jit as us_simulation_jit\n",
    "import dl.nets.us_simu as us_simu\n",
    "\n",
    "import importlib\n",
    "\n",
    "from dl.nets.layers import TimeDistributed\n",
    "\n",
    "from torchvision import transforms as T\n",
    "\n",
    "sys.path.append('/mnt/raid/C1_ML_Analysis/source/ShapeAXI/src/')\n",
    "\n",
    "from shapeaxi.saxi_layers import AttentionChunk\n"
   ]
  },
  {
   "cell_type": "code",
   "execution_count": 2,
   "id": "6b3bc806",
   "metadata": {},
   "outputs": [],
   "source": [
    "mount_point = '/mnt/raid/C1_ML_Analysis'"
   ]
  },
  {
   "cell_type": "code",
   "execution_count": null,
   "id": "c202de98",
   "metadata": {},
   "outputs": [],
   "source": [
    "\n",
    "df = pd.read_csv('/mnt/raid/C1_ML_Analysis/CSV_files/C_dataset_analysis_protocoltagsonly_gaboe230_masked_resampled_256_spc075.csv')\n",
    "df_study = df.query('study_id == \"UNC-1037-5\"')\n",
    "print(df_study)"
   ]
  },
  {
   "cell_type": "code",
   "execution_count": 4,
   "id": "700a98ec",
   "metadata": {},
   "outputs": [],
   "source": [
    "from generative.networks.nets.autoencoderkl import Encoder\n",
    "\n",
    "latent_dim = 3\n",
    "\n",
    "    "
   ]
  },
  {
   "cell_type": "code",
   "execution_count": null,
   "id": "e1c4e6f2",
   "metadata": {},
   "outputs": [],
   "source": [
    "vs = us_simu.VolumeSamplingBlindSweep(mount_point=mount_point).cuda()"
   ]
  },
  {
   "cell_type": "code",
   "execution_count": 6,
   "id": "ff9095a1",
   "metadata": {},
   "outputs": [],
   "source": [
    "def sweep_resample(sweep_t, target_shape=(128, 256, 256)):\n",
    "    return F.interpolate(sweep_t, target_shape, mode='nearest')   \n",
    "\n",
    "sweeps_fov = []\n",
    "sweeps_t = []\n",
    "sweeps_tags = []\n",
    "sweeps_x_v = []\n",
    "df_study_tags = df_study[df_study['tag'].isin(vs.tags)]\n",
    "\n",
    "inverse_transform_us = T.Compose([T.Pad((0, 0, 0, 40)),  T.Lambda(lambda x: T.functional.crop(x, 40, 0, 256, 256))])\n",
    "\n",
    "for idx, row in df_study_tags.iterrows():\n",
    "    tag = row['tag']\n",
    "    \n",
    "    if tag in vs.tags:\n",
    "        \n",
    "        sweep_fn = os.path.join(mount_point, row['file_path'])\n",
    "        img_np, _ = nrrd.read(sweep_fn, index_order='C')\n",
    "        img_np = img_np.astype(np.float32)\n",
    "        sweep_t = torch.tensor(img_np).cuda().float()/255.0\n",
    "        \n",
    "        sweep_t = sweep_t.unsqueeze(0).unsqueeze(0)\n",
    "        \n",
    "        sweep_t = sweep_resample(sweep_t)\n",
    "        \n",
    "        # sweep_t = inverse_transform_us(sweep_t)\n",
    "\n",
    "        sweeps_tags.append(tag)\n",
    "        sweeps_t.append(sweep_t)\n",
    "\n",
    "\n",
    "sweeps_t = torch.cat(sweeps_t)\n",
    "sweeps_t = sweeps_t[0:8]\n",
    "\n",
    "# sweeps_fov = torch.stack(sweeps_fov)\n",
    "# print(sweeps_fov[0].shape)\n",
    "# print(sweeps_fov[0].shape)\n",
    "# fig = px.imshow(sweeps_t[0].squeeze().cpu().numpy(), animation_frame=1, binary_string=True)\n",
    "# fig.show()\n",
    "\n",
    "# fig = px.imshow(sweeps_fov[0].squeeze().cpu().numpy(), animation_frame=0, binary_string=True)\n",
    "\n",
    "# fig.show()"
   ]
  },
  {
   "cell_type": "code",
   "execution_count": null,
   "id": "f04fe31c",
   "metadata": {},
   "outputs": [],
   "source": [
    "\n",
    "model = us_simu.USPCReconstruction(mount_point=mount_point, lr=1e-4, weight_decay=0.01, latent_channels=3, num_samples=4096, input_dim=6, output_dim=3, K=[27, 27], num_heads=[64, 128], stages=[64, 128], dropout=0.1, pooling_factor=[0.5, 0.5], score_pooling=0, pooling_hidden_dim=[32, 64], feed_forward_hidden_dim=[32, 64], use_skip_connection=0)\n",
    "model.cuda()"
   ]
  },
  {
   "cell_type": "code",
   "execution_count": 8,
   "id": "29ccb597",
   "metadata": {},
   "outputs": [],
   "source": [
    "x = model(sweeps_t.cuda(), torch.randint(0, 8, (sweeps_t.shape[0],)).cuda())"
   ]
  },
  {
   "cell_type": "code",
   "execution_count": null,
   "id": "9ac66915",
   "metadata": {},
   "outputs": [],
   "source": [
    "x_ = x.detach().cpu().numpy()[0]\n",
    "fig = go.Figure(data=[go.Scatter3d(x=x_[:,0], y=x_[:,1], z=x_[:,2], mode='markers', marker=dict(\n",
    "        size=2,\n",
    "        color=x_[:,2],                # set color to an array/list of desired values\n",
    "        # colorscale='jet',   # choose a colorscale\n",
    "        opacity=1.0\n",
    "    ))])\n",
    "fig.show()"
   ]
  },
  {
   "cell_type": "code",
   "execution_count": null,
   "id": "f46a17ba",
   "metadata": {},
   "outputs": [],
   "source": [
    "sweeps_t = sweeps_t.permute(0, 1, 4, 3, 2)\n",
    "x_v = vs.diffusor_tag_resample(sweeps_t, tag=sweeps_tags)\n",
    "\n",
    "N = 50000\n",
    "\n",
    "x_v_np0 = x_v.cpu().numpy()[0]\n",
    "sweeps_t0 = sweeps_t[0].flatten().cpu().numpy()\n",
    "\n",
    "x_v_np0 = x_v_np0[sweeps_t0 > 0]\n",
    "sweeps_t0 = sweeps_t0[sweeps_t0 > 0]\n",
    "\n",
    "\n",
    "random_indices = torch.randperm(x_v_np0.shape[0])[:N]\n",
    "x_v_np0 = x_v_np0[random_indices]\n",
    "sweeps_t0 = sweeps_t0[random_indices]\n",
    "\n",
    "x_v_np1 = x_v.cpu().numpy()[1]\n",
    "sweeps_t1 = sweeps_t[1].flatten().cpu().numpy()\n",
    "\n",
    "x_v_np1 = x_v_np1[sweeps_t1 > 0]\n",
    "sweeps_t1 = sweeps_t1[sweeps_t1 > 0]\n",
    "\n",
    "random_indices = torch.randperm(x_v_np1.shape[0])[:N]\n",
    "x_v_np1 = x_v_np1[random_indices]\n",
    "sweeps_t1 = sweeps_t1[random_indices]\n",
    "\n",
    "\n",
    "fig = go.Figure(data=[go.Scatter3d(x=x_v_np0[:,0], y=x_v_np0[:,1], z=x_v_np0[:,2], mode='markers', marker=dict(\n",
    "        size=2,\n",
    "        color=sweeps_t0,                # set color to an array/list of desired values\n",
    "        colorscale='jet',   # choose a colorscale\n",
    "        opacity=1.0\n",
    "    )), \n",
    "    go.Scatter3d(x=x_v_np1[:,0], y=x_v_np1[:,1], z=x_v_np1[:,2], mode='markers', marker=dict(\n",
    "        size=2,\n",
    "        color=sweeps_t1,                # set color to an array/list of desired values\n",
    "        colorscale='jet',   # choose a colorscale\n",
    "        opacity=1.0\n",
    "    ))\n",
    "    ])\n",
    "fig.show()"
   ]
  },
  {
   "cell_type": "code",
   "execution_count": null,
   "id": "7cf845e2",
   "metadata": {},
   "outputs": [],
   "source": [
    "df_train = pd.read_csv(os.path.join(mount_point, 'CSV_files/C1_C2_cines_gt_ga_withmeta_masked_resampled_256_spc075_uuid_study_train_protocoltags.csv'))\n",
    "df_val = pd.read_csv(os.path.join(mount_point, 'CSV_files/C1_C2_cines_gt_ga_withmeta_masked_resampled_256_spc075_uuid_study_valid_protocoltags.csv'))\n",
    "df_test = pd.read_csv(os.path.join(mount_point, 'CSV_files/C1_C2_cines_gt_ga_withmeta_masked_resampled_256_spc075_uuid_study_test_protocoltags.csv'))\n",
    "\n",
    "dm = ultrasound_dataset.USDataModuleBlindSweepWTag(df_train, df_val, df_test, mount_point=mount_point, batch_size=2, num_frames=0, img_column='file_path', ga_column='ga_boe', id_column='study_id', max_sweeps=3)\n",
    "dm.setup()\n",
    "# ds = ultrasound_dataset.USDatasetBlindSweepWTag(df_train, mount_point=mount_point, num_frames=0, img_column='file_path', ga_column='ga_boe', transform=None, id_column='study_id', max_sweeps=3)\n",
    "\n"
   ]
  },
  {
   "cell_type": "code",
   "execution_count": 12,
   "id": "8f8f2dcd",
   "metadata": {},
   "outputs": [],
   "source": [
    "b0 = next(iter(dm.train_dataloader()))\n",
    "b0[0].shape"
   ]
  },
  {
   "cell_type": "code",
   "execution_count": null,
   "id": "f74a33cf",
   "metadata": {},
   "outputs": [],
   "source": []
  }
 ],
 "metadata": {
  "kernelspec": {
   "display_name": "Python 3 (ipykernel)",
   "language": "python",
   "name": "python3"
  },
  "language_info": {
   "codemirror_mode": {
    "name": "ipython",
    "version": 3
   },
   "file_extension": ".py",
   "mimetype": "text/x-python",
   "name": "python",
   "nbconvert_exporter": "python",
   "pygments_lexer": "ipython3",
   "version": "3.10.14"
  }
 },
 "nbformat": 4,
 "nbformat_minor": 5
}
