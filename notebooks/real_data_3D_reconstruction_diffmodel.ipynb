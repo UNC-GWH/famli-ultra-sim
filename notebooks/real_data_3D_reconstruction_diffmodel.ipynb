{
 "cells": [
  {
   "cell_type": "code",
   "execution_count": null,
   "id": "113e45f5-bc1e-4650-b328-2e443fbb883e",
   "metadata": {},
   "outputs": [],
   "source": [
    "import os\n",
    "import sys\n",
    "\n",
    "from torch.utils.data import Dataset, DataLoader\n",
    "import pandas as pd\n",
    "import numpy as np\n",
    "import SimpleITK as sitk\n",
    "import nrrd\n",
    "import vtk\n",
    "\n",
    "import torch\n",
    "from torch import nn\n",
    "from torch.nn import functional as F\n",
    "from torchvision import transforms\n",
    "\n",
    "import pytorch_lightning as pl\n",
    "import pickle\n",
    "import monai \n",
    "import glob \n",
    "import plotly.graph_objects as go\n",
    "import plotly.express as px\n",
    "from plotly.subplots import make_subplots\n",
    "import matplotlib.pyplot as plt\n",
    "from mpl_toolkits.mplot3d import Axes3D\n",
    "\n",
    "sys.path.append('/mnt/famli_netapp_shared/C1_ML_Analysis/src/famli-ultra-sim/')\n",
    "sys.path.append('/mnt/famli_netapp_shared/C1_ML_Analysis/src/famli-ultra-sim/dl')\n",
    "import dl.loaders.ultrasound_dataset as ultrasound_dataset\n",
    "import dl.transforms.ultrasound_transforms as ultrasound_transforms\n",
    "import dl.loaders.mr_us_dataset as mr_us_dataset\n",
    "import dl.nets.us_simulation_jit as us_simulation_jit\n",
    "import dl.nets.us_simu as us_simu\n",
    "\n",
    "import importlib\n",
    "\n",
    "sys.path.append('/mnt/raid/C1_ML_Analysis/source/ShapeAXI/src/')\n",
    "\n",
    "\n"
   ]
  },
  {
   "cell_type": "code",
   "execution_count": 2,
   "id": "6b3bc806",
   "metadata": {},
   "outputs": [],
   "source": [
    "mount_point = '/mnt/raid/C1_ML_Analysis'"
   ]
  },
  {
   "cell_type": "code",
   "execution_count": null,
   "id": "c202de98",
   "metadata": {},
   "outputs": [],
   "source": [
    "\n",
    "df = pd.read_csv('/mnt/raid/C1_ML_Analysis/CSV_files/C_dataset_analysis_protocoltagsonly_gaboe230_masked_resampled_256_spc075.csv')\n",
    "df_study = df.query('study_id == \"UNC-1037-5\"')\n",
    "print(df_study)"
   ]
  },
  {
   "cell_type": "code",
   "execution_count": 4,
   "id": "700a98ec",
   "metadata": {},
   "outputs": [],
   "source": [
    "from generative.networks.nets.autoencoderkl import Encoder\n",
    "\n",
    "latent_dim = 3\n",
    "\n",
    "    "
   ]
  },
  {
   "cell_type": "code",
   "execution_count": null,
   "id": "e1c4e6f2",
   "metadata": {},
   "outputs": [],
   "source": [
    "vs = us_simu.VolumeSamplingBlindSweep(mount_point=mount_point).cuda()"
   ]
  },
  {
   "cell_type": "code",
   "execution_count": null,
   "id": "f04fe31c",
   "metadata": {},
   "outputs": [],
   "source": [
    "\n",
    "model = us_simu.USPCReconstruction(mount_point=mount_point, lr=1e-4, weight_decay=0.01, latent_channels=3, num_samples=4096, input_dim=6, output_dim=3, K=[27, 27], num_heads=[64, 128], stages=[64, 128], dropout=0.1, pooling_factor=[0.5, 0.5], score_pooling=0, pooling_hidden_dim=[32, 64], feed_forward_hidden_dim=[32, 64], use_skip_connection=0)\n",
    "model.cuda()"
   ]
  },
  {
   "cell_type": "code",
   "execution_count": null,
   "id": "7cf845e2",
   "metadata": {},
   "outputs": [],
   "source": [
    "df_train = pd.read_csv(os.path.join(mount_point, 'CSV_files/C1_C2_cines_gt_ga_withmeta_masked_resampled_256_spc075_uuid_study_train_protocoltags.csv'))\n",
    "df_val = pd.read_csv(os.path.join(mount_point, 'CSV_files/C1_C2_cines_gt_ga_withmeta_masked_resampled_256_spc075_uuid_study_valid_protocoltags.csv'))\n",
    "df_test = pd.read_csv(os.path.join(mount_point, 'CSV_files/C1_C2_cines_gt_ga_withmeta_masked_resampled_256_spc075_uuid_study_test_protocoltags.csv'))\n",
    "\n",
    "dm = ultrasound_dataset.USDataModuleBlindSweepWTag(df_train, df_val, df_test, mount_point=mount_point, batch_size=2, num_frames=0, img_column='file_path', ga_column='ga_boe', id_column='study_id', max_sweeps=3)\n",
    "dm.setup()\n",
    "# ds = ultrasound_dataset.USDatasetBlindSweepWTag(df_train, mount_point=mount_point, num_frames=0, img_column='file_path', ga_column='ga_boe', transform=None, id_column='study_id', max_sweeps=3)\n",
    "\n"
   ]
  },
  {
   "cell_type": "code",
   "execution_count": null,
   "id": "8f8f2dcd",
   "metadata": {},
   "outputs": [],
   "source": [
    "b0 = next(iter(dm.train_dataloader()))\n",
    "b0[0].shape"
   ]
  },
  {
   "cell_type": "code",
   "execution_count": null,
   "id": "f74a33cf",
   "metadata": {},
   "outputs": [],
   "source": [
    "b0['tag'][:,0].shape"
   ]
  },
  {
   "cell_type": "code",
   "execution_count": null,
   "id": "cd0edc48",
   "metadata": {},
   "outputs": [],
   "source": []
  }
 ],
 "metadata": {
  "kernelspec": {
   "display_name": "Python 3 (ipykernel)",
   "language": "python",
   "name": "python3"
  },
  "language_info": {
   "codemirror_mode": {
    "name": "ipython",
    "version": 3
   },
   "file_extension": ".py",
   "mimetype": "text/x-python",
   "name": "python",
   "nbconvert_exporter": "python",
   "pygments_lexer": "ipython3",
   "version": "3.10.14"
  }
 },
 "nbformat": 4,
 "nbformat_minor": 5
}
