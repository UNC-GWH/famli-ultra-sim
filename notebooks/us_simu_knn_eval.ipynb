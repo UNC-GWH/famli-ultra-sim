{
 "cells": [
  {
   "cell_type": "code",
   "execution_count": null,
   "id": "113e45f5-bc1e-4650-b328-2e443fbb883e",
   "metadata": {},
   "outputs": [],
   "source": [
    "import os\n",
    "import sys\n",
    "\n",
    "from torch.utils.data import Dataset, DataLoader\n",
    "import pandas as pd\n",
    "import numpy as np\n",
    "import SimpleITK as sitk\n",
    "import nrrd\n",
    "import vtk\n",
    "\n",
    "import torch\n",
    "from torch import nn\n",
    "from torch.nn import functional as F\n",
    "from torchvision import transforms\n",
    "\n",
    "import pytorch_lightning as pl\n",
    "import pickle\n",
    "import monai \n",
    "import glob \n",
    "import plotly.graph_objects as go\n",
    "import plotly.express as px\n",
    "from plotly.subplots import make_subplots\n",
    "import matplotlib.pyplot as plt\n",
    "from mpl_toolkits.mplot3d import Axes3D\n",
    "\n",
    "sys.path.append('/mnt/famli_netapp_shared/C1_ML_Analysis/src/famli-ultra-sim/')\n",
    "sys.path.append('/mnt/famli_netapp_shared/C1_ML_Analysis/src/famli-ultra-sim/dl')\n",
    "import dl.transforms.ultrasound_transforms as ultrasound_transforms\n",
    "import dl.loaders.mr_us_dataset as mr_us_dataset\n",
    "import dl.nets.us_simulation_jit as us_simulation_jit\n",
    "import dl.nets.us_simu as us_simu\n",
    "\n",
    "import importlib\n",
    "\n",
    "from dl.nets.layers import TimeDistributed\n"
   ]
  },
  {
   "cell_type": "code",
   "execution_count": null,
   "id": "6b3bc806",
   "metadata": {},
   "outputs": [],
   "source": [
    "mount_point = '/mnt/raid/C1_ML_Analysis'"
   ]
  },
  {
   "cell_type": "code",
   "execution_count": null,
   "id": "5ec6cd9d",
   "metadata": {},
   "outputs": [],
   "source": [
    "# model_fn = os.path.join(mount_point, 'train_output/simu_reconstruction/USPCReconstruction/v0.2/epoch=7-val_loss=0.01.ckpt')\n",
    "model_fn = os.path.join(mount_point, 'train_output/simu_reconstruction/USPCReconstruction/v0.3/epoch=8-val_loss=0.01.ckpt')\n",
    "pc_r = us_simu.USPCReconstruction.load_from_checkpoint(model_fn)\n",
    "pc_r.eval()\n",
    "pc_r.cuda()"
   ]
  },
  {
   "cell_type": "code",
   "execution_count": null,
   "id": "67220ae8",
   "metadata": {},
   "outputs": [],
   "source": [
    "diffusor_np, diffusor_head = nrrd.read('/mnt/raid//C1_ML_Analysis/simulated_data_export/placenta/FAM-025-0664-4_label11_resampled.nrrd')\n",
    "diffusor_t = torch.tensor(diffusor_np.astype(int)).permute(2, 1, 0)\n",
    "print(diffusor_head)\n",
    "diffusor_size = torch.tensor(diffusor_head['sizes'])\n",
    "diffusor_spacing = torch.tensor(np.diag(diffusor_head['space directions']))\n",
    "\n",
    "diffusor_origin = torch.tensor(diffusor_head['space origin']).flip(dims=[0])\n",
    "diffusor_end = diffusor_origin + diffusor_spacing * diffusor_size\n",
    "print(diffusor_spacing)\n",
    "print(diffusor_t.shape)\n",
    "print(diffusor_origin)\n",
    "print(diffusor_end)"
   ]
  },
  {
   "cell_type": "code",
   "execution_count": null,
   "id": "df17d634",
   "metadata": {},
   "outputs": [],
   "source": [
    "batch_size = 1\n",
    "diffusor_batch_t = diffusor_t.permute([2, 1, 0]).cuda().float().unsqueeze(0).unsqueeze(0).repeat(batch_size, 1, 1, 1, 1)\n",
    "diffusor_origin_batch = diffusor_origin[None, :].repeat(batch_size, 1)\n",
    "diffusor_end_batch = diffusor_end[None, :].repeat(batch_size, 1)\n",
    "\n",
    "print(diffusor_batch_t.shape, diffusor_origin_batch.shape, diffusor_end_batch.shape)"
   ]
  },
  {
   "cell_type": "code",
   "execution_count": null,
   "id": "76e44534",
   "metadata": {},
   "outputs": [],
   "source": [
    "\n",
    "X_V = []\n",
    "with torch.no_grad():\n",
    "    for t_idx, tag in enumerate(pc_r.vs.tags):\n",
    "        V, F = pc_r.get_sweeps(diffusor_batch_t.cuda(), diffusor_origin_batch.cuda(), diffusor_end_batch.cuda(), train=False, tag_idx=t_idx)\n",
    "\n",
    "        x_s, _ = pc_r(F, V)\n",
    "\n",
    "        threshold = np.percentile(x_s.detach().cpu().numpy(), 95)\n",
    "        x_s = x_s.reshape(-1)\n",
    "        V = V.reshape(-1, 3)\n",
    "        x_v = V[x_s >= threshold]\n",
    "        X_V.append(x_v)\n",
    "X_V = torch.cat(X_V, dim=0)\n",
    "X_V = torch.unique(X_V, dim=0)\n"
   ]
  },
  {
   "cell_type": "code",
   "execution_count": null,
   "id": "7dc4d0a7",
   "metadata": {},
   "outputs": [],
   "source": [
    "x_v = X_V.cpu().numpy()\n",
    "fig = go.Figure(data=[go.Scatter3d(x=x_v[:,0], y=x_v[:,1], z=x_v[:,2], mode='markers', marker=dict(\n",
    "        size=2,\n",
    "        color=x_v[:,2],                # set color to an array/list of desired values\n",
    "        colorscale='jet',   # choose a colorscale\n",
    "        opacity=1.0\n",
    "    ))])\n",
    "fig.show()"
   ]
  }
 ],
 "metadata": {
  "kernelspec": {
   "display_name": "Python 3 (ipykernel)",
   "language": "python",
   "name": "python3"
  },
  "language_info": {
   "codemirror_mode": {
    "name": "ipython",
    "version": 3
   },
   "file_extension": ".py",
   "mimetype": "text/x-python",
   "name": "python",
   "nbconvert_exporter": "python",
   "pygments_lexer": "ipython3",
   "version": "3.10.14"
  }
 },
 "nbformat": 4,
 "nbformat_minor": 5
}
