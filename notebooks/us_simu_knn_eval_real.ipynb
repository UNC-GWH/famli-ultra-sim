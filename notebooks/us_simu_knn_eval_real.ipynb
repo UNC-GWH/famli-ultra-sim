{
 "cells": [
  {
   "cell_type": "code",
   "execution_count": null,
   "id": "113e45f5-bc1e-4650-b328-2e443fbb883e",
   "metadata": {},
   "outputs": [],
   "source": [
    "import os\n",
    "import sys\n",
    "\n",
    "from torch.utils.data import Dataset, DataLoader\n",
    "import pandas as pd\n",
    "import numpy as np\n",
    "import SimpleITK as sitk\n",
    "import nrrd\n",
    "import vtk\n",
    "\n",
    "import torch\n",
    "from torch import nn\n",
    "from torch.nn import functional as F\n",
    "from torchvision import transforms\n",
    "\n",
    "import pytorch_lightning as pl\n",
    "import pickle\n",
    "import monai \n",
    "import glob \n",
    "import plotly.graph_objects as go\n",
    "import plotly.express as px\n",
    "from plotly.subplots import make_subplots\n",
    "import matplotlib.pyplot as plt\n",
    "from mpl_toolkits.mplot3d import Axes3D\n",
    "\n",
    "sys.path.append('/mnt/famli_netapp_shared/C1_ML_Analysis/src/famli-ultra-sim/')\n",
    "sys.path.append('/mnt/famli_netapp_shared/C1_ML_Analysis/src/famli-ultra-sim/dl')\n",
    "import dl.transforms.ultrasound_transforms as ultrasound_transforms\n",
    "import dl.loaders.mr_us_dataset as mr_us_dataset\n",
    "import dl.nets.us_simulation_jit as us_simulation_jit\n",
    "import dl.nets.us_simu as us_simu\n",
    "\n",
    "import importlib\n",
    "\n",
    "from dl.nets.layers import TimeDistributed\n",
    "\n",
    "from torchvision import transforms as T\n"
   ]
  },
  {
   "cell_type": "code",
   "execution_count": null,
   "id": "6b3bc806",
   "metadata": {},
   "outputs": [],
   "source": [
    "mount_point = '/mnt/raid/C1_ML_Analysis'"
   ]
  },
  {
   "cell_type": "code",
   "execution_count": null,
   "id": "c202de98",
   "metadata": {},
   "outputs": [],
   "source": [
    "df = pd.read_csv('/mnt/famli_netapp_shared/C1_ML_Analysis/src/diffusion-models/blender/studies/placenta/ALL_C1_cines_gt_ga_withmeta_full_tags_sample_masked_resampled_256_spc075.csv')\n",
    "df_study = df.query('study_id == \"FAM-025-0754-2\"')"
   ]
  },
  {
   "cell_type": "code",
   "execution_count": null,
   "id": "5ec6cd9d",
   "metadata": {},
   "outputs": [],
   "source": [
    "# model_fn = os.path.join(mount_point, 'train_output/simu_reconstruction/USPCReconstruction/v0.2/epoch=7-val_loss=0.01.ckpt')\n",
    "# model_fn = os.path.join(mount_point, 'train_output/simu_reconstruction/USPCReconstruction/v0.3/epoch=8-val_loss=0.01.ckpt')\n",
    "model_fn = os.path.join(mount_point, 'train_output/simu_reconstruction/USPCReconstruction/v0.6/last.ckpt')\n",
    "pc_r = us_simu.USPCReconstruction.load_from_checkpoint(model_fn).eval().cuda()\n"
   ]
  },
  {
   "cell_type": "code",
   "execution_count": null,
   "id": "ff9095a1",
   "metadata": {},
   "outputs": [],
   "source": [
    "def sweep_resample(sweep_t, target_shape=(200, 256, 256)):\n",
    "    return F.interpolate(sweep_t, target_shape, mode='nearest')   \n",
    "\n",
    "sweeps_fov = []\n",
    "sweeps_t = []\n",
    "df_study_tags = df_study[df_study['tag'].isin(pc_r.vs.tags)]\n",
    "\n",
    "\n",
    "inverse_transform_us = T.Compose([T.Pad((0, 0, 0, 40)),  T.Lambda(lambda x: T.functional.crop(x, 40, 0, 256, 256))])\n",
    "\n",
    "for idx, row in df_study_tags.iterrows():\n",
    "    tag = row['tag']\n",
    "    sweep_fn = os.path.join(mount_point, row['file_path'])\n",
    "    img_np, _ = nrrd.read(sweep_fn, index_order='C')\n",
    "    img_np = img_np.astype(np.float32)\n",
    "    sweep_t = torch.tensor(img_np).cuda().float()/255.0\n",
    "    sweep_t = sweep_t[:, :, :, 0:1].permute(3, 0, 1, 2)\n",
    "    \n",
    "    sweep_t = inverse_transform_us(sweep_t.permute(1, 0, 2, 3)).permute(1, 0, 2, 3)\n",
    "    \n",
    "    sweep_resampled = sweep_resample(sweep_t.unsqueeze(0))\n",
    "    # sweeps_fov.append(sweep_resampled)\n",
    "    \n",
    "    sweeps_fov.append(pc_r.vs.simulated_sweep_in_fov(tag, sweep_resampled))\n",
    "\n",
    "# sweeps_fov = torch.stack(sweeps_fov)\n",
    "# print(sweeps_fov[0].shape)\n",
    "# print(sweeps_fov[0].shape)\n",
    "# fig = px.imshow(sweeps_t[0].squeeze().cpu().numpy(), animation_frame=1, binary_string=True)\n",
    "# fig.show()\n",
    "\n",
    "# fig = px.imshow(sweeps_fov[0].squeeze().cpu().numpy(), animation_frame=0, binary_string=True)\n",
    "# fig.show()"
   ]
  },
  {
   "cell_type": "code",
   "execution_count": null,
   "id": "73b9fd19",
   "metadata": {},
   "outputs": [],
   "source": [
    "X_V = []\n",
    "X_S = []\n",
    "with torch.no_grad():\n",
    "    \n",
    "    V, F = pc_r.get_fovs_VF(sweeps_fov)\n",
    "\n",
    "    for v_, f_ in zip(V, F):\n",
    "        x_s, _ = pc_r(f_.unsqueeze(0), v_.unsqueeze(0))\n",
    "        threshold = np.percentile(x_s.detach().cpu().numpy(), 95)\n",
    "        x_s = x_s.reshape(-1)\n",
    "        v_ = v_.reshape(-1, 3)\n",
    "        X_V.append(v_[x_s >= threshold])\n",
    "        X_S.append(x_s[x_s >= threshold])\n",
    "\n",
    "    # x_s, _ = pc_r(F, V)\n",
    "\n",
    "    # threshold = np.percentile(x_s.detach().cpu().numpy(), 95)\n",
    "    # print(threshold)\n",
    "    # threshold = 0.85\n",
    "    # x_s = x_s.reshape(-1)\n",
    "    # V = V.reshape(-1, 3)\n",
    "    # X_V = V[x_s >= threshold]\n",
    "\n",
    "X_V = torch.cat(X_V, dim=0)\n",
    "X_V = torch.unique(X_V, dim=0)"
   ]
  },
  {
   "cell_type": "code",
   "execution_count": null,
   "id": "7dc4d0a7",
   "metadata": {},
   "outputs": [],
   "source": [
    "x_v = X_V.cpu().numpy()\n",
    "N = 50000\n",
    "random_indices = torch.randperm(x_v.shape[0])[:N]\n",
    "\n",
    "fig = go.Figure(data=[go.Scatter3d(x=x_v[random_indices,0], y=x_v[random_indices,1], z=x_v[random_indices,2], mode='markers', marker=dict(\n",
    "        size=2,\n",
    "        color=x_v[random_indices,2],                # set color to an array/list of desired values\n",
    "        colorscale='jet',   # choose a colorscale\n",
    "        opacity=1.0\n",
    "    ))])\n",
    "fig.show()"
   ]
  },
  {
   "cell_type": "code",
   "execution_count": null,
   "id": "7cf845e2",
   "metadata": {},
   "outputs": [],
   "source": []
  }
 ],
 "metadata": {
  "kernelspec": {
   "display_name": "Python 3 (ipykernel)",
   "language": "python",
   "name": "python3"
  },
  "language_info": {
   "codemirror_mode": {
    "name": "ipython",
    "version": 3
   },
   "file_extension": ".py",
   "mimetype": "text/x-python",
   "name": "python",
   "nbconvert_exporter": "python",
   "pygments_lexer": "ipython3",
   "version": "3.10.14"
  }
 },
 "nbformat": 4,
 "nbformat_minor": 5
}
