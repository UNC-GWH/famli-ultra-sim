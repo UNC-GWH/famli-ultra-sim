{
 "cells": [
  {
   "cell_type": "code",
   "execution_count": 1,
   "metadata": {},
   "outputs": [],
   "source": [
    "import torch\n",
    "from torch import nn\n",
    "from torch.nn import functional as F\n",
    "import importlib\n",
    "import sys\n",
    "import nrrd\n",
    "import numpy as np\n",
    "\n",
    "sys.path.append('/mnt/raid/C1_ML_Analysis/source/famli-ultra-sim/')\n",
    "sys.path.append('/mnt/raid/C1_ML_Analysis/source/famli-ultra-sim/dl/')\n",
    "sys.path.append('/mnt/raid/C1_ML_Analysis/source/famli-ultra-sim/dl/nets')\n",
    "from dl.nets import us_simu\n",
    "\n",
    "import plotly.graph_objects as go\n",
    "import plotly.express as px\n",
    "from plotly.subplots import make_subplots"
   ]
  },
  {
   "cell_type": "code",
   "execution_count": null,
   "metadata": {},
   "outputs": [],
   "source": [
    "diffusor_np, diffusor_head = nrrd.read('/mnt/raid//C1_ML_Analysis/simulated_data_export/placenta/FAM-025-0664-4_label11_resampled.nrrd')\n",
    "diffusor_t = torch.tensor(diffusor_np.astype(int)).permute(2, 1, 0).cuda()\n",
    "print(diffusor_head)\n",
    "diffusor_size = torch.tensor(diffusor_head['sizes']).cuda()\n",
    "diffusor_spacing = torch.tensor(np.diag(diffusor_head['space directions'])).cuda()\n",
    "\n",
    "diffusor_origin = torch.tensor(diffusor_head['space origin']).flip(dims=[0]).cuda()\n",
    "diffusor_end = diffusor_origin + diffusor_spacing * diffusor_size\n"
   ]
  },
  {
   "cell_type": "code",
   "execution_count": null,
   "metadata": {},
   "outputs": [],
   "source": [
    "model = us_simu.USPCReconstruction(mount_point='/mnt/raid/C1_ML_Analysis', \n",
    "    latent_channels=3,\n",
    "    num_samples=4096,\n",
    "    input_dim=6,\n",
    "    output_dim=3,\n",
    "    K=[27, 27],\n",
    "    num_heads=[64, 128],\n",
    "    stages=[64, 128],\n",
    "    dropout=0.1,\n",
    "    pooling_factor=[0.5, 0.5],\n",
    "    score_pooling=0,\n",
    "    pooling_hidden_dim=[32, 64],\n",
    "    feed_forward_hidden_dim=[32, 64],\n",
    "    use_skip_connection=0, \n",
    "    num_random_sweeps=3,\n",
    "    n_grids=200, \n",
    "    target_label=7, \n",
    "    n_fixed_samples=12288).cuda()"
   ]
  },
  {
   "cell_type": "code",
   "execution_count": 4,
   "metadata": {},
   "outputs": [],
   "source": [
    "# x_sweeps, x_sweeps_tags = model.volume_sampling(diffusor_t.unsqueeze(0).unsqueeze(0).repeat([2,1,1,1,1]), diffusor_origin.unsqueeze(0).repeat([2,1,1,1]), diffusor_end.unsqueeze(0).repeat([2,1,1,1]))    \n",
    "# print(x_sweeps.shape, x_sweeps_tags.shape)\n",
    "# print(x_sweeps_tags[0])\n",
    "\n",
    "# fig = px.imshow(diffusor_t.squeeze().cpu().numpy(), animation_frame=0, binary_string=True)\n",
    "# fig.show()"
   ]
  },
  {
   "cell_type": "code",
   "execution_count": 5,
   "metadata": {},
   "outputs": [],
   "source": [
    "# fig = px.imshow(x_sweeps.cpu().numpy()[0][0][0], animation_frame=0, binary_string=True)\n",
    "# fig.show()"
   ]
  },
  {
   "cell_type": "code",
   "execution_count": null,
   "metadata": {},
   "outputs": [],
   "source": [
    "model.on_fit_start()\n",
    "model.training_step((diffusor_t.unsqueeze(0).unsqueeze(0).repeat([2,1,1,1,1]), diffusor_origin.unsqueeze(0).repeat([2,1,1,1]), diffusor_end.unsqueeze(0).repeat([2,1,1,1])), 0)"
   ]
  },
  {
   "cell_type": "code",
   "execution_count": 7,
   "metadata": {},
   "outputs": [],
   "source": [
    "y_v = model.get_target(diffusor_t.unsqueeze(0).unsqueeze(0).repeat([2,1,1,1,1]), diffusor_origin.unsqueeze(0).repeat([2,1,1,1]), diffusor_end.unsqueeze(0).repeat([2,1,1,1]))\n"
   ]
  },
  {
   "cell_type": "code",
   "execution_count": null,
   "metadata": {},
   "outputs": [],
   "source": [
    "fig = go.Figure(data=[go.Scatter3d(x=y_v[0,:,0].cpu().numpy(), y=y_v[0,:,1].cpu().numpy(), z=y_v[0,:,2].cpu().numpy(), mode='markers', marker=dict(\n",
    "        size=2,\n",
    "        # color=y_v[0,:, 2].cpu().numpy().squeeze(),                # set color to an array/list of desired values\n",
    "        colorscale='jet',   # choose a colorscale\n",
    "        opacity=0.5\n",
    "    ))])\n",
    "fig.show()"
   ]
  },
  {
   "cell_type": "code",
   "execution_count": null,
   "metadata": {},
   "outputs": [],
   "source": [
    "y_v.shape"
   ]
  }
 ],
 "metadata": {
  "kernelspec": {
   "display_name": "Python 3 (ipykernel)",
   "language": "python",
   "name": "python3"
  },
  "language_info": {
   "codemirror_mode": {
    "name": "ipython",
    "version": 3
   },
   "file_extension": ".py",
   "mimetype": "text/x-python",
   "name": "python",
   "nbconvert_exporter": "python",
   "pygments_lexer": "ipython3",
   "version": "3.10.14"
  }
 },
 "nbformat": 4,
 "nbformat_minor": 2
}
