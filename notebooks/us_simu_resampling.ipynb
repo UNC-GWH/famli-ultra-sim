{
 "cells": [
  {
   "cell_type": "code",
   "execution_count": 1,
   "id": "113e45f5-bc1e-4650-b328-2e443fbb883e",
   "metadata": {},
   "outputs": [],
   "source": [
    "import os\n",
    "import sys\n",
    "\n",
    "from torch.utils.data import Dataset, DataLoader\n",
    "import pandas as pd\n",
    "import numpy as np\n",
    "import SimpleITK as sitk\n",
    "import nrrd\n",
    "import vtk\n",
    "\n",
    "import torch\n",
    "from torch import nn\n",
    "from torch.nn import functional as F\n",
    "from torchvision import transforms\n",
    "\n",
    "import pytorch_lightning as pl\n",
    "import pickle\n",
    "import monai \n",
    "import glob \n",
    "import plotly.graph_objects as go\n",
    "import plotly.express as px\n",
    "from plotly.subplots import make_subplots\n",
    "import matplotlib.pyplot as plt\n",
    "from mpl_toolkits.mplot3d import Axes3D\n",
    "\n",
    "sys.path.append('/mnt/raid/C1_ML_Analysis/source/famli-ultra-sim/')\n",
    "sys.path.append('/mnt/raid/C1_ML_Analysis/source/famli-ultra-sim/dl')\n",
    "import dl.transforms.ultrasound_transforms as ultrasound_transforms\n",
    "import dl.nets.us_simulation_jit as us_simulation_jit\n",
    "import dl.nets.us_simu as us_simu\n",
    "\n",
    "import importlib\n",
    "\n",
    "from dl.nets.layers import TimeDistributed\n"
   ]
  },
  {
   "cell_type": "code",
   "execution_count": 2,
   "id": "6b3bc806",
   "metadata": {},
   "outputs": [],
   "source": [
    "mount_point = '/mnt/raid/C1_ML_Analysis'\n",
    "\n",
    "importlib.reload(us_simu)\n",
    "vs = us_simu.VolumeSamplingBlindSweep(mount_point=mount_point)\n",
    "vs.init_probe_params()\n",
    "vs = vs.cuda()"
   ]
  },
  {
   "cell_type": "code",
   "execution_count": 3,
   "id": "5ec6cd9d",
   "metadata": {},
   "outputs": [],
   "source": [
    "\n",
    "# diffusor = sitk.ReadImage('/mnt/famli_netapp_shared/C1_ML_Analysis/src/blender/simulated_data_export/studies_merged/FAM-025-0447-5.nrrd')\n",
    "# diffusor_np = sitk.GetArrayFromImage(diffusor)\n",
    "# diffusor_t = torch.tensor(diffusor_np.astype(int))\n",
    "\n",
    "# diffusor_spacing = torch.tensor(diffusor.GetSpacing()).flip(dims=[0])\n",
    "# diffusor_size = torch.tensor(diffusor.GetSize()).flip(dims=[0])\n",
    "\n",
    "# diffusor_origin = torch.tensor(diffusor.GetOrigin()).flip(dims=[0])\n",
    "# diffusor_end = diffusor_origin + diffusor_spacing * diffusor_size\n",
    "# print(diffusor_size)\n",
    "# print(diffusor_spacing)\n",
    "# print(diffusor_t.shape)\n",
    "# print(diffusor_origin)\n",
    "# print(diffusor_end)\n",
    "\n",
    "# diffusor_np, diffusor_head = nrrd.read('/mnt/raid//C1_ML_Analysis/simulated_data_export/placenta/FAM-025-0664-4_label11_resampled.nrrd')\n",
    "diffusor_np, diffusor_head = nrrd.read(os.path.join('/mnt/raid/C1_ML_Analysis/simulated_data_export/animation_export/', 'breech/frame_0001.nrrd'))\n",
    "diffusor_t = torch.tensor(diffusor_np.astype(int)).permute(2, 1, 0)\n",
    "print(diffusor_head)\n",
    "diffusor_size = torch.tensor(diffusor_head['sizes'])\n",
    "diffusor_spacing = torch.tensor(np.diag(diffusor_head['space directions']))\n",
    "\n",
    "diffusor_origin = torch.tensor(diffusor_head['space origin']).flip(dims=[0])\n",
    "diffusor_end = diffusor_origin + diffusor_spacing * diffusor_size\n",
    "print(diffusor_spacing)\n",
    "print(diffusor_t.shape)\n",
    "print(diffusor_origin)\n",
    "print(diffusor_end)\n"
   ]
  },
  {
   "cell_type": "code",
   "execution_count": 4,
   "id": "a9d81c43",
   "metadata": {},
   "outputs": [],
   "source": [
    "fig = px.imshow(diffusor_t.flip(dims=[1]).squeeze().cpu().numpy(), animation_frame=0, binary_string=True)\n",
    "fig.show()"
   ]
  },
  {
   "cell_type": "code",
   "execution_count": 5,
   "id": "e4bae68e",
   "metadata": {},
   "outputs": [],
   "source": [
    "diffusor_batch_t = diffusor_t.permute([2, 1, 0]).cuda().float().unsqueeze(0).unsqueeze(0)\n",
    "\n",
    "\n",
    "diffusor_origin_batch = diffusor_origin[None, :]\n",
    "diffusor_end_batch = diffusor_end[None, :]\n",
    "\n",
    "print(diffusor_batch_t.shape, diffusor_origin_batch.shape, diffusor_origin_batch.shape)\n",
    "# print(diffusor_origin_batch.shape)\n",
    "\n",
    "diffusor_in_fov_t = vs.diffusor_in_fov(diffusor_batch_t, diffusor_origin_batch.cuda(), diffusor_end_batch.cuda())\n"
   ]
  },
  {
   "cell_type": "code",
   "execution_count": 6,
   "id": "c334ea04",
   "metadata": {},
   "outputs": [],
   "source": [
    "# fig = px.imshow(diffusor_in_fov_t[0].squeeze().flip(dims=[1]).cpu().numpy(), animation_frame=0, binary_string=True)\n",
    "# fig.show()\n",
    "# fig = px.imshow(diffusor_in_fov_t[1].squeeze().flip(dims=[1]).cpu().numpy(), animation_frame=0, binary_string=True)\n",
    "# fig.show()"
   ]
  },
  {
   "cell_type": "code",
   "execution_count": 7,
   "id": "24597d6b",
   "metadata": {},
   "outputs": [],
   "source": [
    "importlib.reload(us_simulation_jit)\n",
    "us_simulator_cut = us_simulation_jit.MergedLinearLabel11()\n",
    "us_simulator_cut = us_simulator_cut.cuda()\n",
    "grid, inverse_grid, mask_fan = us_simulator_cut.init_grids(256, 256, 128.0, -30.0, 20.0, 215.0, 0.7853981633974483)\n",
    "us_simulator_cut_td = TimeDistributed(us_simulator_cut, time_dim=2).eval().cuda()\n"
   ]
  },
  {
   "cell_type": "code",
   "execution_count": 8,
   "id": "76e44534",
   "metadata": {},
   "outputs": [],
   "source": [
    "\n",
    "\n",
    "t_idx = 5\n",
    "\n",
    "# vs.tags = ['M', 'L0', 'L1', 'R0', 'R1', 'C1', 'C2', 'C3', 'C4']\n",
    "tag = vs.tags[t_idx]\n",
    "\n",
    "\n",
    "# sampled_sweep = vs.diffusor_sampling_tag(tag, diffusor_batch_t.to(torch.float).cuda(), diffusor_origin_batch.to(torch.float).cuda(), diffusor_end_batch.to(torch.float).cuda())\n",
    "# sampled_sweep_simu = torch.cat([us_simulator_cut_td(ss.unsqueeze(dim=0), grid.cuda(), inverse_grid.cuda(), mask_fan.cuda()) for ss in sampled_sweep], dim=0)\n",
    "\n",
    "\n",
    "# sampled_sweep_simu = vs.get_sweep(diffusor_batch_t.to(torch.float).cuda(), diffusor_origin_batch.to(torch.float).cuda(), diffusor_end_batch.to(torch.float).cuda(), tag, use_random=False, simulator=us_simulator_cut_td, grid=grid.cuda(), inverse_grid=inverse_grid.cuda(), \n",
    "sampled_sweep_simu = vs.get_sweep(diffusor_batch_t.to(torch.float).cuda(), diffusor_origin_batch.to(torch.float).cuda(), diffusor_end_batch.to(torch.float).cuda(), tag, use_random=False, simulator=None, grid=grid.cuda(), inverse_grid=inverse_grid.cuda(), mask_fan=mask_fan.cuda())\n",
    "print(sampled_sweep_simu.shape)\n"
   ]
  },
  {
   "cell_type": "code",
   "execution_count": 12,
   "id": "063b0882",
   "metadata": {},
   "outputs": [],
   "source": [
    "fig = px.imshow(sampled_sweep_simu.squeeze().detach().cpu().numpy(), animation_frame=0, binary_string=True)\n",
    "fig.show()"
   ]
  },
  {
   "cell_type": "code",
   "execution_count": 10,
   "id": "d434655b",
   "metadata": {},
   "outputs": [],
   "source": [
    "# mesh_grid_params = [torch.arange(start=-1.0, end=1.0, step=(2.0/s), device=sampled_sweep_simu.device) for s in sampled_sweep_simu.shape[-3:]]\n",
    "# z, y, x = torch.meshgrid(mesh_grid_params, indexing='ij')\n",
    "# mesh_grid = torch.stack([x, y, z], dim=-1).to(torch.float32).unsqueeze(0)\n",
    "\n",
    "# repeats = [1,]*len(mesh_grid.shape)\n",
    "# repeats[0] = sampled_sweep_simu.shape[0]\n",
    "\n",
    "# mesh_grid = mesh_grid.repeat(repeats)\n",
    "\n",
    "# sampled_sweep_simu_v2 = F.grid_sample(sampled_sweep_simu[:,0,:,85:120,:,:], mesh_grid, align_corners=True)\n",
    "\n",
    "# fig = px.imshow(sampled_sweep_simu_v2.squeeze().detach().cpu().numpy(), animation_frame=0, binary_string=True)\n",
    "# fig.show()"
   ]
  },
  {
   "cell_type": "code",
   "execution_count": 11,
   "id": "cf003ab1",
   "metadata": {},
   "outputs": [],
   "source": [
    "\n",
    "out_fovs = vs.simulated_sweep_in_fov(tag, sampled_sweep_simu[:,:,0,80:120,:,:]).detach()\n",
    "# print(simulation_ultrasound_plane_mesh_grid_transformed_t.shape)\n",
    "\n",
    "# fig = px.imshow(sampled_sweep[0].squeeze().cpu().numpy(), animation_frame=0, binary_string=True)\n",
    "# fig.show()\n",
    "# fig = px.imshow(sampled_sweep_simu[0].squeeze().cpu().numpy(), animation_frame=0, binary_string=True)\n",
    "# fig.show()\n",
    "# fig = px.imshow(out_fovs[0].flip(dims=[1]).squeeze().detach().cpu().numpy(), animation_frame=2, binary_string=True)\n",
    "# fig.show()"
   ]
  },
  {
   "cell_type": "code",
   "execution_count": null,
   "id": "16ba0b27",
   "metadata": {},
   "outputs": [],
   "source": [
    "out_fovs = vs.simulated_sweep_in_fov(tag, sampled_sweep_simu[:,:,0,:,:,:]).detach()\n",
    "# fig = px.imshow(out_fovs[0].flip(dims=[1]).squeeze().cpu().numpy(), animation_frame=2, binary_string=True)\n",
    "# fig = px.imshow(out_fov.flip(dims=[0]).squeeze().cpu().numpy(), animation_frame=2, binary_string=True)\n",
    "# fig.show()"
   ]
  },
  {
   "cell_type": "code",
   "execution_count": null,
   "id": "6118d1b7",
   "metadata": {},
   "outputs": [],
   "source": [
    "# diffusor_plane_t = diffusor_plane_t.squeeze().unsqueeze(1)\n",
    "\n",
    "# diffusor_plane_t = vs.diffusor_sampling_tag('C1', diffusor_t.unsqueeze(0).unsqueeze(0).cuda().to(torch.float), diffusor_origin.cuda().to(torch.float), diffusor_end.cuda().to(torch.float))\n",
    "\n",
    "# # print(diffusor_plane_t.shape)\n",
    "# repeats = [1,]*4\n",
    "# repeats[0] = diffusor_plane_t.shape[0]\n",
    "\n",
    "# with torch.no_grad():\n",
    "#     x = us_simulator_cut_td(diffusor_plane_t, grid.repeat(repeats).cuda(), inverse_grid.repeat(repeats).cuda(), mask_fan.repeat(repeats).cuda())\n",
    "\n",
    "# fig = px.imshow(x.squeeze().cpu().numpy(), animation_frame=0, binary_string=True)\n",
    "# fig.show()\n",
    "\n",
    "# torch.cuda.empty_cache()\n"
   ]
  },
  {
   "cell_type": "code",
   "execution_count": null,
   "id": "14e6c4a1",
   "metadata": {},
   "outputs": [],
   "source": [
    "sampled_sweep_simu_emb = vs.embed_sweep(tag, sampled_sweep_simu[:,:,0,80:120,:,:])\n",
    "print(sampled_sweep_simu_emb.shape)\n",
    "# sampled_sweep_simu_emb_v = sampled_sweep_simu_emb[:,:,99:100,:,:]\n",
    "sampled_sweep_simu_emb_v = sampled_sweep_simu_emb\n",
    "print(sampled_sweep_simu_emb_v.shape)\n",
    "sampled_sweep_simu_emb_v = sampled_sweep_simu_emb_v.flatten(start_dim=2).permute(0, 2, 1)\n",
    "print(sampled_sweep_simu_emb_v.shape)\n",
    "\n",
    "# fig = px.imshow(sampled_sweep_simu_emb[0,0,100,:,:].cpu().numpy(), binary_string=True)\n",
    "# fig.show()"
   ]
  },
  {
   "cell_type": "code",
   "execution_count": null,
   "id": "b384e4a5",
   "metadata": {},
   "outputs": [],
   "source": [
    "r_idx = torch.randint(0, sampled_sweep_simu_emb_v.shape[1], (65536,))\n",
    "r_idx = torch.sort(r_idx)[0]\n",
    "\n",
    "SN = 0\n",
    "x_v = sampled_sweep_simu_emb_v[:, r_idx, :].detach().cpu().numpy()\n",
    "\n",
    "fig = go.Figure(data=[go.Scatter3d(x=x_v[SN,:,1], y=x_v[SN,:,2], z=x_v[SN,:,3], mode='markers', marker=dict(\n",
    "        size=2,\n",
    "        color=x_v[SN,:,0],\n",
    "        colorscale='jet',\n",
    "        # opacity=0.5\n",
    "    ))])\n",
    "fig.show()"
   ]
  },
  {
   "cell_type": "code",
   "execution_count": null,
   "id": "f3917b4e",
   "metadata": {},
   "outputs": [],
   "source": [
    "vs.probe_origins_M.shape"
   ]
  },
  {
   "cell_type": "code",
   "execution_count": null,
   "id": "0c879977",
   "metadata": {},
   "outputs": [],
   "source": [
    "vs.probe_directions_M.shape"
   ]
  },
  {
   "cell_type": "code",
   "execution_count": null,
   "id": "f5a8459f",
   "metadata": {},
   "outputs": [],
   "source": [
    "vs.probe_directions_M[0]"
   ]
  },
  {
   "cell_type": "code",
   "execution_count": null,
   "id": "d63b2b6c",
   "metadata": {},
   "outputs": [],
   "source": []
  }
 ],
 "metadata": {
  "kernelspec": {
   "display_name": "Python 3 (ipykernel)",
   "language": "python",
   "name": "python3"
  }
 },
 "nbformat": 4,
 "nbformat_minor": 5
}
