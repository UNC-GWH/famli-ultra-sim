{
 "cells": [
  {
   "cell_type": "code",
   "execution_count": 1,
   "id": "113e45f5-bc1e-4650-b328-2e443fbb883e",
   "metadata": {},
   "outputs": [],
   "source": [
    "import os\n",
    "import sys\n",
    "\n",
    "from torch.utils.data import Dataset, DataLoader\n",
    "import pandas as pd\n",
    "import numpy as np\n",
    "import SimpleITK as sitk\n",
    "import nrrd\n",
    "import vtk\n",
    "\n",
    "import torch\n",
    "from torch import nn\n",
    "from torch.nn import functional as F\n",
    "from torchvision import transforms\n",
    "\n",
    "import pytorch_lightning as pl\n",
    "import pickle\n",
    "import monai \n",
    "import glob \n",
    "import plotly.graph_objects as go\n",
    "import plotly.express as px\n",
    "from plotly.subplots import make_subplots\n",
    "import matplotlib.pyplot as plt\n",
    "from mpl_toolkits.mplot3d import Axes3D\n",
    "\n",
    "sys.path.append('/mnt/raid/C1_ML_Analysis/source/famli-ultra-sim/')\n",
    "sys.path.append('/mnt/raid/C1_ML_Analysis/source/famli-ultra-sim/dl')\n",
    "import dl.transforms.ultrasound_transforms as ultrasound_transforms\n",
    "import dl.nets.us_simulation_jit as us_simulation_jit\n",
    "import dl.nets.us_simu as us_simu\n",
    "\n",
    "import importlib\n",
    "\n",
    "from dl.nets.layers import TimeDistributed\n",
    "\n",
    "sys.path.append('/mnt/raid/C1_ML_Analysis/source/ShapeAXI/src')\n",
    "from shapeaxi import utils as saxi_utils\n"
   ]
  },
  {
   "cell_type": "code",
   "execution_count": 2,
   "id": "6b3bc806",
   "metadata": {},
   "outputs": [],
   "source": [
    "mount_point = '/mnt/raid/C1_ML_Analysis/simulated_data_export/animation_export/'\n",
    "\n",
    "importlib.reload(us_simu)\n",
    "vs = us_simu.VolumeSamplingBlindSweep(mount_point=mount_point, simulation_fov_fn='simulation_fov.stl', simulation_ultrasound_plane_fn='ultrasound_grid.stl')\n",
    "vs.init_probe_params_from_pos(os.path.join(mount_point, 'all_poses/frame_0001/probe_paths'))\n",
    "vs = vs.cuda()"
   ]
  },
  {
   "cell_type": "code",
   "execution_count": 3,
   "id": "5ec6cd9d",
   "metadata": {},
   "outputs": [],
   "source": [
    "\n",
    "# diffusor = sitk.ReadImage('/mnt/famli_netapp_shared/C1_ML_Analysis/src/blender/simulated_data_export/studies_merged/FAM-025-0447-5.nrrd')\n",
    "# diffusor_np = sitk.GetArrayFromImage(diffusor)\n",
    "# diffusor_t = torch.tensor(diffusor_np.astype(int))\n",
    "\n",
    "# diffusor_spacing = torch.tensor(diffusor.GetSpacing()).flip(dims=[0])\n",
    "# diffusor_size = torch.tensor(diffusor.GetSize()).flip(dims=[0])\n",
    "\n",
    "# diffusor_origin = torch.tensor(diffusor.GetOrigin()).flip(dims=[0])\n",
    "# diffusor_end = diffusor_origin + diffusor_spacing * diffusor_size\n",
    "# print(diffusor_size)\n",
    "# print(diffusor_spacing)\n",
    "# print(diffusor_t.shape)\n",
    "# print(diffusor_origin)\n",
    "# print(diffusor_end)\n",
    "\n",
    "\n",
    "\n",
    "# diffusor_np, diffusor_head = nrrd.read(os.path.join(mount_point, 'breech/frame_0001.nrrd'))\n",
    "# diffusor_t = torch.tensor(diffusor_np.astype(int)).permute(2, 1, 0)\n",
    "# print(diffusor_head)\n",
    "# diffusor_size = torch.tensor(diffusor_head['sizes'])\n",
    "# diffusor_spacing = torch.tensor(np.diag(diffusor_head['space directions']))\n",
    "\n",
    "# diffusor_origin = torch.tensor(diffusor_head['space origin']).flip(dims=[0])\n",
    "# diffusor_end = diffusor_origin + diffusor_spacing * diffusor_size\n",
    "\n",
    "\n",
    "\n",
    "diffusor = sitk.ReadImage(os.path.join(mount_point, 'all_poses/frame_0001.nrrd'))\n",
    "diffusor_t = torch.tensor(sitk.GetArrayFromImage(diffusor).astype(int))  # Convert to (z, y, x) format\n",
    "diffusor_size = torch.tensor(diffusor.GetSize())\n",
    "diffusor_spacing = torch.tensor(diffusor.GetSpacing())\n",
    "diffusor_origin = torch.tensor(diffusor.GetOrigin())\n",
    "diffusor_end = diffusor_origin + diffusor_spacing * diffusor_size\n",
    "\n",
    "print(diffusor.GetDirection())\n",
    "print(diffusor_spacing)\n",
    "print(diffusor_t.shape)\n",
    "print(diffusor_size)\n",
    "print(diffusor_origin)\n",
    "print(diffusor_end)\n",
    "\n"
   ]
  },
  {
   "cell_type": "code",
   "execution_count": 4,
   "id": "a9d81c43",
   "metadata": {},
   "outputs": [],
   "source": [
    "# fig = px.imshow(diffusor_t.flip(dims=[1]).squeeze().cpu().numpy(), animation_frame=0, binary_string=True)\n",
    "# fig.show()"
   ]
  },
  {
   "cell_type": "code",
   "execution_count": 5,
   "id": "e4bae68e",
   "metadata": {},
   "outputs": [],
   "source": [
    "diffusor_batch_t = diffusor_t.cuda().float().unsqueeze(0).unsqueeze(0)\n",
    "\n",
    "\n",
    "diffusor_origin_batch = diffusor_origin[None, :].cuda()\n",
    "diffusor_end_batch = diffusor_end[None, :].cuda()\n",
    "\n",
    "diffusor_spacing_batch_t = diffusor_spacing.unsqueeze(0).cuda()\n",
    "\n",
    "print(diffusor_batch_t.shape, diffusor_origin_batch.shape, diffusor_origin_batch.shape)\n",
    "# print(diffusor_origin_batch.shape)\n",
    "\n",
    "# diffusor_in_fov_t = vs.diffusor_in_fov(diffusor_batch_t, diffusor_origin_batch.cuda(), diffusor_end_batch.cuda())\n"
   ]
  },
  {
   "cell_type": "code",
   "execution_count": 6,
   "id": "07254ea7",
   "metadata": {},
   "outputs": [],
   "source": [
    "\n",
    "reader = vtk.vtkSTLReader()\n",
    "reader.SetFileName(os.path.join(mount_point, 'all_poses/frame_0001/fetus/Fetus_Model.stl'))\n",
    "reader.Update()\n",
    "surf = reader.GetOutput()\n",
    "V, F = saxi_utils.PolyDataToTensors_v_f(surf)"
   ]
  },
  {
   "cell_type": "code",
   "execution_count": 7,
   "id": "1ec61315",
   "metadata": {},
   "outputs": [],
   "source": [
    "df = pd.read_csv(os.path.join(mount_point, \"shapes_intensity_map_nrrd.csv\"))\n",
    "sk_tags = torch.tensor(list(df.query(\"group=='skeleton' or group=='skull' or group=='arms' or group=='legs'\")['label'])).cuda()\n",
    "# sk_tags = torch.tensor(list(df.query(\"group=='lady'\")['label'])).cuda()"
   ]
  },
  {
   "cell_type": "code",
   "execution_count": 8,
   "id": "bab1c727",
   "metadata": {},
   "outputs": [],
   "source": [
    "mask = torch.isin(diffusor_batch_t.squeeze(1), sk_tags)\n",
    "coords = []\n",
    "for bidx, m in enumerate(mask):\n",
    "    idx = torch.argwhere(m)    \n",
    "    xyz = idx*diffusor_spacing_batch_t[bidx] + diffusor_origin_batch[bidx]\n",
    "    coords.append(xyz)\n",
    "\n"
   ]
  },
  {
   "cell_type": "code",
   "execution_count": 9,
   "id": "80808092",
   "metadata": {},
   "outputs": [],
   "source": [
    "simulation_planes = vs.transform_simulation_ultrasound_plane_tag(\"R0\")\n",
    "simulation_planes.shape"
   ]
  },
  {
   "cell_type": "code",
   "execution_count": 10,
   "id": "74eca6c2",
   "metadata": {},
   "outputs": [],
   "source": [
    "idx = torch.randint(0, len(coords[0]), (10000,))\n",
    "VDiff = coords[0][idx]\n",
    "SN = 0\n",
    "\n",
    "\n",
    "trace1 = go.Scatter3d(x=V[:,0].detach().cpu().numpy(), y=V[:,1].detach().cpu().numpy(), z=V[:,2].detach().cpu().numpy(), mode='markers', marker=dict(\n",
    "    size=2,\n",
    "    color=V[:,2].detach().cpu().numpy(),                # set color to an array/list of desired values\n",
    "    colorscale='jet',   # choose a colorscale\n",
    "    # opacity=0.5\n",
    "))\n",
    "\n",
    "\n",
    "\n",
    "trace2 = go.Scatter3d(x=VDiff[:,0].detach().cpu().numpy(), y=VDiff[:,1].detach().cpu().numpy(), z=VDiff[:,2].detach().cpu().numpy(), mode='markers', marker=dict(\n",
    "    size=2,\n",
    "    color=VDiff[:,2].detach().cpu().numpy(),                # set color to an array/list of desired values\n",
    "    colorscale='viridis',   # choose a colorscale\n",
    "    # opacity=0.5\n",
    "))\n",
    "\n",
    "VSimu = simulation_planes[100:110].reshape(-1, 3)\n",
    "VSimu = VSimu[torch.randint(0, len(VSimu), (10000,))]\n",
    "\n",
    "SN = 0\n",
    "trace3 = go.Scatter3d(x=VSimu[:,0].detach().cpu().numpy(), y=VSimu[:,1].detach().cpu().numpy(), z=VSimu[:,2].detach().cpu().numpy(), mode='markers', marker=dict(\n",
    "    size=2,\n",
    "    color=VSimu[:,2].detach().cpu().numpy(),                # set color to an array/list of desired values\n",
    "    colorscale='turbo',   # choose a colorscale\n",
    "    # opacity=0.5\n",
    "))\n",
    "\n",
    "VPos = vs.probe_origins_R0\n",
    "trace4 = go.Scatter3d(x=VPos[:,0].detach().cpu().numpy(), y=VPos[:,1].detach().cpu().numpy(), z=VPos[:,2].detach().cpu().numpy(), mode='markers', marker=dict(\n",
    "    size=8,\n",
    "    color='magenta',\n",
    "    # opacity=0.5\n",
    "))\n",
    "\n",
    "# Combine both traces in the same figure\n",
    "fig = go.Figure(data=[trace1, trace2, trace3, trace4])\n",
    "fig.show()"
   ]
  },
  {
   "cell_type": "code",
   "execution_count": 11,
   "id": "9943079a",
   "metadata": {},
   "outputs": [],
   "source": [
    "# fig = px.imshow(diffusor_in_fov_t[0].squeeze().flip(dims=[1]).cpu().numpy(), animation_frame=0, binary_string=True)\n",
    "# fig.show()\n",
    "# fig = px.imshow(diffusor_in_fov_t[1].squeeze().flip(dims=[1]).cpu().numpy(), animation_frame=0, binary_string=True)\n",
    "# fig.show()"
   ]
  },
  {
   "cell_type": "code",
   "execution_count": 12,
   "id": "24597d6b",
   "metadata": {},
   "outputs": [],
   "source": [
    "importlib.reload(us_simulation_jit)\n",
    "us_simulator_cut = us_simulation_jit.MergedLinearLabel11()\n",
    "us_simulator_cut = us_simulator_cut.cuda()\n",
    "grid, inverse_grid, mask_fan = us_simulator_cut.init_grids(256, 256, 128.0, -30.0, 20.0, 215.0, 0.7853981633974483)\n",
    "us_simulator_cut_td = TimeDistributed(us_simulator_cut, time_dim=2).eval().cuda()\n"
   ]
  },
  {
   "cell_type": "code",
   "execution_count": 20,
   "id": "76e44534",
   "metadata": {},
   "outputs": [],
   "source": [
    "\n",
    "\n",
    "#tags = ['M', 'L0', 'L1', 'R0', 'R1', 'C1', 'C2', 'C3', 'C4']\n",
    "t_idx = 7\n",
    "\n",
    "tag = vs.tags[t_idx]\n",
    "\n",
    "\n",
    "# sampled_sweep = vs.diffusor_sampling_tag(tag, diffusor_batch_t.to(torch.float).cuda(), diffusor_origin_batch.to(torch.float).cuda(), diffusor_end_batch.to(torch.float).cuda())\n",
    "# sampled_sweep_simu = torch.cat([us_simulator_cut_td(ss.unsqueeze(dim=0), grid.cuda(), inverse_grid.cuda(), mask_fan.cuda()) for ss in sampled_sweep], dim=0)\n",
    "\n",
    "\n",
    "sampled_sweep_simu = vs.get_sweep(diffusor_batch_t.to(torch.float).cuda(), diffusor_origin_batch.to(torch.float).cuda(), diffusor_end_batch.to(torch.float).cuda(), tag, use_random=False, simulator=None, grid=grid.cuda(), inverse_grid=inverse_grid.cuda(), mask_fan=mask_fan.cuda())\n",
    "print(sampled_sweep_simu.shape)\n"
   ]
  },
  {
   "cell_type": "code",
   "execution_count": 21,
   "id": "063b0882",
   "metadata": {},
   "outputs": [],
   "source": [
    "fig = px.imshow(sampled_sweep_simu.squeeze().detach().cpu().numpy(), animation_frame=0, binary_string=True)\n",
    "fig.show()"
   ]
  },
  {
   "cell_type": "code",
   "execution_count": 15,
   "id": "2cbbc650",
   "metadata": {},
   "outputs": [],
   "source": [
    "reader = vtk.vtkSTLReader()\n",
    "reader.SetFileName(os.path.join(mount_point, 'ultrasound_grid.stl'))\n",
    "reader.Update()\n",
    "simulation_ultrasound_plane = reader.GetOutput()\n",
    "simulation_ultrasound_plane_V, simulation_ultrasound_plane_F = saxi_utils.PolyDataToTensors_v_f(simulation_ultrasound_plane)\n",
    "print(simulation_ultrasound_plane.GetBounds())"
   ]
  },
  {
   "cell_type": "code",
   "execution_count": 16,
   "id": "949d5420",
   "metadata": {},
   "outputs": [],
   "source": [
    "simulation_ultrasound_plane_V"
   ]
  },
  {
   "cell_type": "code",
   "execution_count": 17,
   "id": "c02f8dca",
   "metadata": {},
   "outputs": [],
   "source": [
    "vs.simulation_ultrasound_plane_mesh_grid"
   ]
  },
  {
   "cell_type": "code",
   "execution_count": null,
   "id": "7e5f3b29",
   "metadata": {},
   "outputs": [],
   "source": []
  }
 ],
 "metadata": {
  "kernelspec": {
   "display_name": "Python 3 (ipykernel)",
   "language": "python",
   "name": "python3"
  }
 },
 "nbformat": 4,
 "nbformat_minor": 5
}
