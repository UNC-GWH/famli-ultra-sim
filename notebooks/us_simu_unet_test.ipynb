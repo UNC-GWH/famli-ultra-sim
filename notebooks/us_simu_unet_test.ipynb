{
 "cells": [
  {
   "cell_type": "code",
   "execution_count": null,
   "id": "113e45f5-bc1e-4650-b328-2e443fbb883e",
   "metadata": {},
   "outputs": [],
   "source": [
    "import os\n",
    "import sys\n",
    "\n",
    "from torch.utils.data import Dataset, DataLoader\n",
    "import pandas as pd\n",
    "import numpy as np\n",
    "import SimpleITK as sitk\n",
    "import nrrd\n",
    "import vtk\n",
    "\n",
    "import torch\n",
    "from torch import nn\n",
    "from torch.nn import functional as F\n",
    "from torchvision import transforms\n",
    "\n",
    "import pytorch_lightning as pl\n",
    "import pickle\n",
    "import monai \n",
    "import glob \n",
    "import plotly.graph_objects as go\n",
    "import plotly.express as px\n",
    "from plotly.subplots import make_subplots\n",
    "import matplotlib.pyplot as plt\n",
    "from mpl_toolkits.mplot3d import Axes3D\n",
    "\n",
    "sys.path.append('/mnt/raid/C1_ML_Analysis/source/famli-ultra-sim/')\n",
    "sys.path.append('/mnt/raid/C1_ML_Analysis/source/famli-ultra-sim/dl')\n",
    "import dl.transforms.ultrasound_transforms as ultrasound_transforms\n",
    "import dl.nets.us_simulation_jit as us_simulation_jit\n",
    "import dl.nets.us_simu as us_simu\n",
    "import dl.loaders.ultrasound_dataset as ultrasound_dataset\n",
    "\n",
    "import importlib\n",
    "\n",
    "from dl.nets.layers import TimeDistributed\n",
    "\n",
    "sys.path.append('/mnt/raid/C1_ML_Analysis/source/ShapeAXI/src')\n",
    "from shapeaxi import utils as saxi_utils\n",
    "from shapeaxi.saxi_transforms import EvalTransform\n",
    "\n",
    "from pytorch3d.ops import (sample_points_from_meshes,\n",
    "                           knn_points, \n",
    "                           knn_gather,\n",
    "                           sample_farthest_points)\n"
   ]
  },
  {
   "cell_type": "code",
   "execution_count": null,
   "id": "6b3bc806",
   "metadata": {},
   "outputs": [],
   "source": [
    "mount_point = '/mnt/raid/C1_ML_Analysis'\n",
    "\n",
    "importlib.reload(us_simu)\n",
    "vs = us_simu.VolumeSamplingBlindSweep(mount_point=mount_point)\n",
    "vs = vs.cuda()"
   ]
  },
  {
   "cell_type": "code",
   "execution_count": null,
   "id": "d4a0dd83",
   "metadata": {},
   "outputs": [],
   "source": [
    "batch_size = 1\n",
    "dm = ultrasound_dataset.ImgPCDataModule(\n",
    "    mount_point=\"/mnt/raid/C1_ML_Analysis/simulated_data_export\",\n",
    "    csv_train=\"simulated_data_export/studies_fetus_train_train.csv\",\n",
    "    np_train=\"simulated_data_export/studies_fetus_train_train.npy\",\n",
    "    csv_valid=\"simulated_data_export/studies_fetus_train_test.csv\",\n",
    "    np_valid=\"simulated_data_export/studies_fetus_train_test.npy\",\n",
    "    csv_test=\"simulated_data_export/studies_fetus_test.csv\",\n",
    "    np_test=\"simulated_data_export/studies_fetus_test.npy\",\n",
    "    num_samples_train=5000,\n",
    "    rescale_factor=1,\n",
    "    batch_size=batch_size,\n",
    "    num_workers=1\n",
    "    )\n",
    "dm.setup()\n",
    "\n",
    "it = iter(dm.test_dataloader())"
   ]
  },
  {
   "cell_type": "code",
   "execution_count": null,
   "id": "6f31fdc3",
   "metadata": {},
   "outputs": [],
   "source": [
    "X, X_origin, X_end, X_PC = next(it)"
   ]
  },
  {
   "cell_type": "code",
   "execution_count": null,
   "id": "7784bcb5",
   "metadata": {},
   "outputs": [],
   "source": [
    "NN = getattr(us_simu, \"USSeg\")\n",
    "model = NN.load_from_checkpoint(\"train_output/seg/USSeg/0.1/last.ckpt\")"
   ]
  },
  {
   "cell_type": "code",
   "execution_count": null,
   "id": "6b9ca427",
   "metadata": {},
   "outputs": [],
   "source": [
    "x, y, sweeps_tags = model.volume_sampling(X.cuda(), X_origin.cuda(), X_end.cuda())\n",
    "x = x.squeeze(1)\n",
    "\n",
    "# x_hat = self(x)"
   ]
  },
  {
   "cell_type": "code",
   "execution_count": null,
   "id": "1722ded5",
   "metadata": {},
   "outputs": [],
   "source": [
    "fig = px.imshow(x.squeeze().cpu().numpy(), animation_frame=0, binary_string=True)\n",
    "fig.show()"
   ]
  },
  {
   "cell_type": "code",
   "execution_count": null,
   "id": "ff1e629e",
   "metadata": {},
   "outputs": [],
   "source": []
  }
 ],
 "metadata": {
  "kernelspec": {
   "display_name": "Python 3 (ipykernel)",
   "language": "python",
   "name": "python3"
  },
  "language_info": {
   "codemirror_mode": {
    "name": "ipython",
    "version": 3
   },
   "file_extension": ".py",
   "mimetype": "text/x-python",
   "name": "python",
   "nbconvert_exporter": "python",
   "pygments_lexer": "ipython3",
   "version": "3.10.14"
  }
 },
 "nbformat": 4,
 "nbformat_minor": 5
}
